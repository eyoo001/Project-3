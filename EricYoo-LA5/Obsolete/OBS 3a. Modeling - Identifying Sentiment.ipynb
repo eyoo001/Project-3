{
 "cells": [
  {
   "cell_type": "markdown",
   "metadata": {},
   "source": [
    "# Training a model to predict if a post is good or bad"
   ]
  },
  {
   "cell_type": "code",
   "execution_count": 1,
   "metadata": {},
   "outputs": [
    {
     "name": "stderr",
     "output_type": "stream",
     "text": [
      "/anaconda3/lib/python3.6/site-packages/sklearn/cross_validation.py:41: DeprecationWarning: This module was deprecated in version 0.18 in favor of the model_selection module into which all the refactored classes and functions are moved. Also note that the interface of the new CV iterators are different from that of this module. This module will be removed in 0.20.\n",
      "  \"This module will be removed in 0.20.\", DeprecationWarning)\n",
      "/anaconda3/lib/python3.6/site-packages/sklearn/grid_search.py:42: DeprecationWarning: This module was deprecated in version 0.18 in favor of the model_selection module into which all the refactored classes and functions are moved. This module will be removed in 0.20.\n",
      "  DeprecationWarning)\n",
      "/anaconda3/lib/python3.6/site-packages/nltk/twitter/__init__.py:20: UserWarning: The twython library has not been installed. Some functionality from the twitter package will not be available.\n",
      "  warnings.warn(\"The twython library has not been installed. \"\n"
     ]
    }
   ],
   "source": [
    "import pandas as pd\n",
    "import nltk\n",
    "import numpy as np\n",
    "import json\n",
    "import re\n",
    "import matplotlib.pyplot as plt\n",
    "import seaborn as sns\n",
    "from nltk.corpus import stopwords\n",
    "from nltk.tokenize import word_tokenize, RegexpTokenizer\n",
    "from nltk.stem import WordNetLemmatizer\n",
    "from sklearn.feature_extraction.text import CountVectorizer\n",
    "from sklearn.feature_extraction.text import TfidfVectorizer\n",
    "from sklearn.decomposition import TruncatedSVD\n",
    "from sklearn.metrics.pairwise import cosine_similarity\n",
    "from sklearn.neighbors import KNeighborsClassifier\n",
    "from sklearn.model_selection import train_test_split\n",
    "from sklearn.grid_search import GridSearchCV\n",
    "from nltk.sentiment.vader import SentimentIntensityAnalyzer as SIA\n",
    "from pprint import pprint\n",
    "from sklearn.pipeline import Pipeline\n",
    "\n",
    "\n",
    "%matplotlib inline"
   ]
  },
  {
   "cell_type": "markdown",
   "metadata": {},
   "source": [
    "## Load in data"
   ]
  },
  {
   "cell_type": "code",
   "execution_count": 2,
   "metadata": {},
   "outputs": [],
   "source": [
    "df1 = pd.read_csv('../API-data/news_posts_SA')\n",
    "df1 = df1[:3000] # Artificially limiting the number of news posts to more closely match upliftingnews. "
   ]
  },
  {
   "cell_type": "markdown",
   "metadata": {},
   "source": [
    "This is not the optimal way to deal with unbalanced classes. "
   ]
  },
  {
   "cell_type": "code",
   "execution_count": 3,
   "metadata": {},
   "outputs": [
    {
     "data": {
      "text/plain": [
       "(3000, 8)"
      ]
     },
     "execution_count": 3,
     "metadata": {},
     "output_type": "execute_result"
    }
   ],
   "source": [
    "df1.shape"
   ]
  },
  {
   "cell_type": "code",
   "execution_count": 4,
   "metadata": {},
   "outputs": [
    {
     "data": {
      "text/html": [
       "<div>\n",
       "<style scoped>\n",
       "    .dataframe tbody tr th:only-of-type {\n",
       "        vertical-align: middle;\n",
       "    }\n",
       "\n",
       "    .dataframe tbody tr th {\n",
       "        vertical-align: top;\n",
       "    }\n",
       "\n",
       "    .dataframe thead th {\n",
       "        text-align: right;\n",
       "    }\n",
       "</style>\n",
       "<table border=\"1\" class=\"dataframe\">\n",
       "  <thead>\n",
       "    <tr style=\"text-align: right;\">\n",
       "      <th></th>\n",
       "      <th>Unnamed: 0</th>\n",
       "      <th>compound</th>\n",
       "      <th>headline</th>\n",
       "      <th>neg</th>\n",
       "      <th>neu</th>\n",
       "      <th>pos</th>\n",
       "      <th>news</th>\n",
       "      <th>label</th>\n",
       "    </tr>\n",
       "  </thead>\n",
       "  <tbody>\n",
       "    <tr>\n",
       "      <th>0</th>\n",
       "      <td>0</td>\n",
       "      <td>-0.5267</td>\n",
       "      <td>10 Nigerian Celebrities Who Have Been Sentence...</td>\n",
       "      <td>0.386</td>\n",
       "      <td>0.614</td>\n",
       "      <td>0.000</td>\n",
       "      <td>1</td>\n",
       "      <td>-1</td>\n",
       "    </tr>\n",
       "    <tr>\n",
       "      <th>1</th>\n",
       "      <td>1</td>\n",
       "      <td>0.7003</td>\n",
       "      <td>Philadelphias Homeless Are Finding New Hope Th...</td>\n",
       "      <td>0.000</td>\n",
       "      <td>0.580</td>\n",
       "      <td>0.420</td>\n",
       "      <td>1</td>\n",
       "      <td>1</td>\n",
       "    </tr>\n",
       "    <tr>\n",
       "      <th>2</th>\n",
       "      <td>2</td>\n",
       "      <td>0.4588</td>\n",
       "      <td>Kindness can change a life</td>\n",
       "      <td>0.000</td>\n",
       "      <td>0.500</td>\n",
       "      <td>0.500</td>\n",
       "      <td>1</td>\n",
       "      <td>1</td>\n",
       "    </tr>\n",
       "    <tr>\n",
       "      <th>3</th>\n",
       "      <td>6</td>\n",
       "      <td>0.2003</td>\n",
       "      <td>Shows Up Culinary Therapy  A Different Kind o...</td>\n",
       "      <td>0.057</td>\n",
       "      <td>0.867</td>\n",
       "      <td>0.077</td>\n",
       "      <td>1</td>\n",
       "      <td>1</td>\n",
       "    </tr>\n",
       "    <tr>\n",
       "      <th>4</th>\n",
       "      <td>7</td>\n",
       "      <td>0.2382</td>\n",
       "      <td>Up to 50 of the worlds coral has died but scie...</td>\n",
       "      <td>0.083</td>\n",
       "      <td>0.799</td>\n",
       "      <td>0.118</td>\n",
       "      <td>1</td>\n",
       "      <td>1</td>\n",
       "    </tr>\n",
       "  </tbody>\n",
       "</table>\n",
       "</div>"
      ],
      "text/plain": [
       "   Unnamed: 0  compound                                           headline  \\\n",
       "0           0   -0.5267  10 Nigerian Celebrities Who Have Been Sentence...   \n",
       "1           1    0.7003  Philadelphias Homeless Are Finding New Hope Th...   \n",
       "2           2    0.4588                         Kindness can change a life   \n",
       "3           6    0.2003   Shows Up Culinary Therapy  A Different Kind o...   \n",
       "4           7    0.2382  Up to 50 of the worlds coral has died but scie...   \n",
       "\n",
       "     neg    neu    pos  news  label  \n",
       "0  0.386  0.614  0.000     1     -1  \n",
       "1  0.000  0.580  0.420     1      1  \n",
       "2  0.000  0.500  0.500     1      1  \n",
       "3  0.057  0.867  0.077     1      1  \n",
       "4  0.083  0.799  0.118     1      1  "
      ]
     },
     "execution_count": 4,
     "metadata": {},
     "output_type": "execute_result"
    }
   ],
   "source": [
    "df2 = pd.read_csv('../API-data/upnews_posts_SA')\n",
    "df2.head()"
   ]
  },
  {
   "cell_type": "code",
   "execution_count": 5,
   "metadata": {},
   "outputs": [
    {
     "data": {
      "text/plain": [
       "(2944, 8)"
      ]
     },
     "execution_count": 5,
     "metadata": {},
     "output_type": "execute_result"
    }
   ],
   "source": [
    "df2.shape"
   ]
  },
  {
   "cell_type": "code",
   "execution_count": 6,
   "metadata": {},
   "outputs": [
    {
     "data": {
      "text/plain": [
       "(5944, 8)"
      ]
     },
     "execution_count": 6,
     "metadata": {},
     "output_type": "execute_result"
    }
   ],
   "source": [
    "df = pd.concat((df1, df2), axis=0, ignore_index=True)\n",
    "df.shape"
   ]
  },
  {
   "cell_type": "code",
   "execution_count": 7,
   "metadata": {},
   "outputs": [
    {
     "data": {
      "text/plain": [
       " 1    3279\n",
       "-1    2665\n",
       "Name: label, dtype: int64"
      ]
     },
     "execution_count": 7,
     "metadata": {},
     "output_type": "execute_result"
    }
   ],
   "source": [
    "df = df[df.label != 0]\n",
    "df.label.value_counts()"
   ]
  },
  {
   "cell_type": "markdown",
   "metadata": {},
   "source": [
    "## Count Vectorizer to assign the strings to boolean arrays"
   ]
  },
  {
   "cell_type": "code",
   "execution_count": 8,
   "metadata": {
    "scrolled": true
   },
   "outputs": [
    {
     "data": {
      "text/plain": [
       "array([[0, 0, 0, ..., 0, 0, 0],\n",
       "       [0, 0, 0, ..., 0, 0, 0],\n",
       "       [0, 0, 0, ..., 0, 0, 0],\n",
       "       ...,\n",
       "       [0, 0, 0, ..., 0, 0, 0],\n",
       "       [0, 0, 0, ..., 0, 0, 0],\n",
       "       [0, 0, 0, ..., 0, 0, 0]], dtype=int64)"
      ]
     },
     "execution_count": 8,
     "metadata": {},
     "output_type": "execute_result"
    }
   ],
   "source": [
    "vect = CountVectorizer(max_features=1000, binary=True)\n",
    "X = vect.fit_transform(df['headline'].values.astype('str')) \n",
    "\n",
    "X.toarray()"
   ]
  },
  {
   "cell_type": "code",
   "execution_count": 9,
   "metadata": {},
   "outputs": [],
   "source": [
    "from sklearn.model_selection import train_test_split\n",
    "\n",
    "X = df.headline.values.astype('str')\n",
    "y = df.label\n",
    "\n",
    "X_train, X_test, y_train, y_test = train_test_split(X, y, test_size=0.3)"
   ]
  },
  {
   "cell_type": "code",
   "execution_count": 10,
   "metadata": {},
   "outputs": [],
   "source": [
    "X_train_vect = vect.fit_transform(X_train)\n",
    "X_test_vect = vect.transform(X_test)"
   ]
  },
  {
   "cell_type": "code",
   "execution_count": 11,
   "metadata": {
    "scrolled": true
   },
   "outputs": [],
   "source": [
    "# vect.vocabulary_\n",
    "# commenting this out due to excessive length"
   ]
  },
  {
   "cell_type": "markdown",
   "metadata": {},
   "source": [
    "## Classification\n",
    "\n",
    "Using MultinomialNB to fit and score the model."
   ]
  },
  {
   "cell_type": "code",
   "execution_count": 12,
   "metadata": {},
   "outputs": [],
   "source": [
    "from sklearn.naive_bayes import MultinomialNB\n",
    "\n",
    "nb = MultinomialNB()"
   ]
  },
  {
   "cell_type": "code",
   "execution_count": 13,
   "metadata": {},
   "outputs": [
    {
     "data": {
      "text/plain": [
       "0.8663461538461539"
      ]
     },
     "execution_count": 13,
     "metadata": {},
     "output_type": "execute_result"
    }
   ],
   "source": [
    "nb.fit(X_train_vect, y_train)\n",
    "\n",
    "nb.score(X_train_vect, y_train)"
   ]
  },
  {
   "cell_type": "code",
   "execution_count": 14,
   "metadata": {},
   "outputs": [
    {
     "data": {
      "text/plain": [
       "0.8026905829596412"
      ]
     },
     "execution_count": 14,
     "metadata": {},
     "output_type": "execute_result"
    }
   ],
   "source": [
    "nb.score(X_test_vect, y_test)"
   ]
  },
  {
   "cell_type": "code",
   "execution_count": 15,
   "metadata": {},
   "outputs": [
    {
     "data": {
      "text/plain": [
       "array([ 1,  1,  1, ..., -1,  1,  1])"
      ]
     },
     "execution_count": 15,
     "metadata": {},
     "output_type": "execute_result"
    }
   ],
   "source": [
    "y_pred = nb.predict(X_test_vect)\n",
    "\n",
    "y_pred"
   ]
  },
  {
   "cell_type": "markdown",
   "metadata": {},
   "source": [
    "#### Comparing the predicted y-values to the actual in the form of a confusion matrix\n",
    "\n",
    "Also included \"classification_report\", which I am not entirely sure of how to read."
   ]
  },
  {
   "cell_type": "code",
   "execution_count": 16,
   "metadata": {},
   "outputs": [
    {
     "name": "stdout",
     "output_type": "stream",
     "text": [
      "[[622 190]\n",
      " [162 810]]\n",
      "\n",
      "\n",
      "             precision    recall  f1-score   support\n",
      "\n",
      "         -1       0.79      0.77      0.78       812\n",
      "          1       0.81      0.83      0.82       972\n",
      "\n",
      "avg / total       0.80      0.80      0.80      1784\n",
      "\n"
     ]
    }
   ],
   "source": [
    "from sklearn.metrics import confusion_matrix, classification_report\n",
    "\n",
    "print(confusion_matrix(y_test, y_pred))\n",
    "print('\\n')\n",
    "print(classification_report(y_test, y_pred))"
   ]
  },
  {
   "cell_type": "markdown",
   "metadata": {},
   "source": [
    "## Test the prediction of the NB trained model\n",
    "\n",
    "Testing to see if a post can be correctly identified as positive or negative"
   ]
  },
  {
   "cell_type": "code",
   "execution_count": 17,
   "metadata": {},
   "outputs": [
    {
     "data": {
      "text/plain": [
       "'Brazils National Museum Fire What It Means for Science'"
      ]
     },
     "execution_count": 17,
     "metadata": {},
     "output_type": "execute_result"
    }
   ],
   "source": [
    "news_h = df.headline[1]\n",
    "news_h"
   ]
  },
  {
   "cell_type": "code",
   "execution_count": 18,
   "metadata": {},
   "outputs": [
    {
     "data": {
      "text/plain": [
       "-1"
      ]
     },
     "execution_count": 18,
     "metadata": {},
     "output_type": "execute_result"
    }
   ],
   "source": [
    "news_review_transformed = vect.transform([news_h])\n",
    "nb.predict(news_review_transformed)[0]"
   ]
  },
  {
   "cell_type": "code",
   "execution_count": 19,
   "metadata": {},
   "outputs": [
    {
     "data": {
      "text/plain": [
       "'600 homes repaired 26 million meals served and thousands helped through JJ Watts relief fund'"
      ]
     },
     "execution_count": 19,
     "metadata": {},
     "output_type": "execute_result"
    }
   ],
   "source": [
    "upnews_h = df.headline[3250]\n",
    "upnews_h"
   ]
  },
  {
   "cell_type": "code",
   "execution_count": 20,
   "metadata": {},
   "outputs": [
    {
     "data": {
      "text/plain": [
       "1"
      ]
     },
     "execution_count": 20,
     "metadata": {},
     "output_type": "execute_result"
    }
   ],
   "source": [
    "upnews_review_transformed = vect.transform([upnews_h])\n",
    "nb.predict(upnews_review_transformed)[0]"
   ]
  },
  {
   "cell_type": "code",
   "execution_count": 21,
   "metadata": {},
   "outputs": [
    {
     "data": {
      "text/plain": [
       "'Free tuition for medical students Its about time Hopefully more schools will follow'"
      ]
     },
     "execution_count": 21,
     "metadata": {},
     "output_type": "execute_result"
    }
   ],
   "source": [
    "upnews_h2 = df.headline[3703]\n",
    "upnews_h2"
   ]
  },
  {
   "cell_type": "code",
   "execution_count": 22,
   "metadata": {},
   "outputs": [
    {
     "data": {
      "text/plain": [
       "1"
      ]
     },
     "execution_count": 22,
     "metadata": {},
     "output_type": "execute_result"
    }
   ],
   "source": [
    "positive_review_transformed2 = vect.transform([upnews_h2])\n",
    "nb.predict(positive_review_transformed2)[0]"
   ]
  },
  {
   "cell_type": "markdown",
   "metadata": {},
   "source": [
    "Comparing the output of the model predictor based solely on how it was labeled by Vader, this is relatively accurate. However, that is not to say that the sentiment analysis is accurate."
   ]
  },
  {
   "cell_type": "markdown",
   "metadata": {},
   "source": [
    "## Try some other models\n",
    "\n",
    "Using tf-idf vectorizer instead of count vectorizer."
   ]
  },
  {
   "cell_type": "code",
   "execution_count": 23,
   "metadata": {},
   "outputs": [],
   "source": [
    "from sklearn.naive_bayes import BernoulliNB\n",
    "from sklearn.linear_model import LogisticRegression\n",
    "from sklearn.ensemble import RandomForestClassifier"
   ]
  },
  {
   "cell_type": "code",
   "execution_count": 24,
   "metadata": {},
   "outputs": [],
   "source": [
    "tfidf = TfidfVectorizer(stop_words='english', min_df=10, max_df=.95, ngram_range=(1, 3))"
   ]
  },
  {
   "cell_type": "code",
   "execution_count": 25,
   "metadata": {},
   "outputs": [],
   "source": [
    "term_mat = tfidf.fit_transform(df['headline'].values.astype('str'))"
   ]
  },
  {
   "cell_type": "code",
   "execution_count": 26,
   "metadata": {},
   "outputs": [
    {
     "data": {
      "text/plain": [
       "1176"
      ]
     },
     "execution_count": 26,
     "metadata": {},
     "output_type": "execute_result"
    }
   ],
   "source": [
    "len(tfidf.get_feature_names())"
   ]
  },
  {
   "cell_type": "code",
   "execution_count": 27,
   "metadata": {},
   "outputs": [],
   "source": [
    "term_df = pd.SparseDataFrame(term_mat, columns=tfidf.get_feature_names())"
   ]
  },
  {
   "cell_type": "code",
   "execution_count": 28,
   "metadata": {},
   "outputs": [],
   "source": [
    "term_df.fillna(0, inplace=True)"
   ]
  },
  {
   "cell_type": "code",
   "execution_count": 29,
   "metadata": {},
   "outputs": [
    {
     "data": {
      "text/plain": [
       "(5944, 100)"
      ]
     },
     "execution_count": 29,
     "metadata": {},
     "output_type": "execute_result"
    }
   ],
   "source": [
    "SVD = TruncatedSVD(n_components=100)\n",
    "svd_matrix = SVD.fit_transform(term_df)\n",
    "svd_matrix.shape"
   ]
  },
  {
   "cell_type": "code",
   "execution_count": 30,
   "metadata": {},
   "outputs": [],
   "source": [
    "component_names = [\"component_\"+str(i+1) for i in range(100)]\n",
    "svd_df = pd.DataFrame(svd_matrix,\n",
    "                      columns=component_names)"
   ]
  },
  {
   "cell_type": "code",
   "execution_count": 31,
   "metadata": {},
   "outputs": [
    {
     "data": {
      "text/html": [
       "<div>\n",
       "<style scoped>\n",
       "    .dataframe tbody tr th:only-of-type {\n",
       "        vertical-align: middle;\n",
       "    }\n",
       "\n",
       "    .dataframe tbody tr th {\n",
       "        vertical-align: top;\n",
       "    }\n",
       "\n",
       "    .dataframe thead th {\n",
       "        text-align: right;\n",
       "    }\n",
       "</style>\n",
       "<table border=\"1\" class=\"dataframe\">\n",
       "  <thead>\n",
       "    <tr style=\"text-align: right;\">\n",
       "      <th></th>\n",
       "      <th>component_1</th>\n",
       "      <th>component_2</th>\n",
       "      <th>component_3</th>\n",
       "      <th>component_4</th>\n",
       "      <th>component_5</th>\n",
       "      <th>component_6</th>\n",
       "      <th>component_7</th>\n",
       "      <th>component_8</th>\n",
       "      <th>component_9</th>\n",
       "      <th>component_10</th>\n",
       "      <th>...</th>\n",
       "      <th>component_91</th>\n",
       "      <th>component_92</th>\n",
       "      <th>component_93</th>\n",
       "      <th>component_94</th>\n",
       "      <th>component_95</th>\n",
       "      <th>component_96</th>\n",
       "      <th>component_97</th>\n",
       "      <th>component_98</th>\n",
       "      <th>component_99</th>\n",
       "      <th>component_100</th>\n",
       "    </tr>\n",
       "  </thead>\n",
       "  <tbody>\n",
       "    <tr>\n",
       "      <th>0</th>\n",
       "      <td>0.000831</td>\n",
       "      <td>0.047526</td>\n",
       "      <td>0.166058</td>\n",
       "      <td>-0.053914</td>\n",
       "      <td>0.303857</td>\n",
       "      <td>-0.230784</td>\n",
       "      <td>-0.212336</td>\n",
       "      <td>-0.059711</td>\n",
       "      <td>-0.041123</td>\n",
       "      <td>-0.040243</td>\n",
       "      <td>...</td>\n",
       "      <td>0.041332</td>\n",
       "      <td>-0.049308</td>\n",
       "      <td>-0.000160</td>\n",
       "      <td>-0.080288</td>\n",
       "      <td>0.103986</td>\n",
       "      <td>0.003051</td>\n",
       "      <td>0.004550</td>\n",
       "      <td>0.031368</td>\n",
       "      <td>-0.004892</td>\n",
       "      <td>-0.036757</td>\n",
       "    </tr>\n",
       "    <tr>\n",
       "      <th>1</th>\n",
       "      <td>0.000165</td>\n",
       "      <td>0.014917</td>\n",
       "      <td>0.037146</td>\n",
       "      <td>-0.000212</td>\n",
       "      <td>-0.008844</td>\n",
       "      <td>0.000187</td>\n",
       "      <td>0.002786</td>\n",
       "      <td>-0.000619</td>\n",
       "      <td>0.070699</td>\n",
       "      <td>0.021199</td>\n",
       "      <td>...</td>\n",
       "      <td>0.005693</td>\n",
       "      <td>-0.017511</td>\n",
       "      <td>-0.008939</td>\n",
       "      <td>-0.007358</td>\n",
       "      <td>0.014048</td>\n",
       "      <td>0.006628</td>\n",
       "      <td>-0.009145</td>\n",
       "      <td>0.011235</td>\n",
       "      <td>-0.021072</td>\n",
       "      <td>-0.005543</td>\n",
       "    </tr>\n",
       "    <tr>\n",
       "      <th>2</th>\n",
       "      <td>0.001376</td>\n",
       "      <td>0.047268</td>\n",
       "      <td>0.142053</td>\n",
       "      <td>-0.134252</td>\n",
       "      <td>0.158789</td>\n",
       "      <td>0.271589</td>\n",
       "      <td>0.096239</td>\n",
       "      <td>0.003967</td>\n",
       "      <td>-0.036412</td>\n",
       "      <td>-0.009832</td>\n",
       "      <td>...</td>\n",
       "      <td>-0.043518</td>\n",
       "      <td>-0.058715</td>\n",
       "      <td>0.022017</td>\n",
       "      <td>0.011769</td>\n",
       "      <td>-0.055975</td>\n",
       "      <td>-0.034812</td>\n",
       "      <td>-0.009152</td>\n",
       "      <td>-0.030072</td>\n",
       "      <td>-0.062124</td>\n",
       "      <td>0.026225</td>\n",
       "    </tr>\n",
       "    <tr>\n",
       "      <th>3</th>\n",
       "      <td>0.000480</td>\n",
       "      <td>0.011787</td>\n",
       "      <td>0.042641</td>\n",
       "      <td>0.004642</td>\n",
       "      <td>-0.001823</td>\n",
       "      <td>-0.022365</td>\n",
       "      <td>-0.012399</td>\n",
       "      <td>0.007786</td>\n",
       "      <td>0.020372</td>\n",
       "      <td>0.030803</td>\n",
       "      <td>...</td>\n",
       "      <td>0.032363</td>\n",
       "      <td>-0.007490</td>\n",
       "      <td>-0.013840</td>\n",
       "      <td>0.037017</td>\n",
       "      <td>-0.023748</td>\n",
       "      <td>0.054770</td>\n",
       "      <td>-0.023642</td>\n",
       "      <td>0.062422</td>\n",
       "      <td>0.069843</td>\n",
       "      <td>-0.084336</td>\n",
       "    </tr>\n",
       "    <tr>\n",
       "      <th>4</th>\n",
       "      <td>0.000451</td>\n",
       "      <td>0.010929</td>\n",
       "      <td>0.035688</td>\n",
       "      <td>-0.009113</td>\n",
       "      <td>-0.025787</td>\n",
       "      <td>-0.007924</td>\n",
       "      <td>-0.013723</td>\n",
       "      <td>-0.024696</td>\n",
       "      <td>0.003196</td>\n",
       "      <td>0.004363</td>\n",
       "      <td>...</td>\n",
       "      <td>-0.015059</td>\n",
       "      <td>0.004037</td>\n",
       "      <td>0.048332</td>\n",
       "      <td>-0.043391</td>\n",
       "      <td>0.019181</td>\n",
       "      <td>-0.043005</td>\n",
       "      <td>-0.026261</td>\n",
       "      <td>0.010088</td>\n",
       "      <td>0.009656</td>\n",
       "      <td>-0.023244</td>\n",
       "    </tr>\n",
       "  </tbody>\n",
       "</table>\n",
       "<p>5 rows × 100 columns</p>\n",
       "</div>"
      ],
      "text/plain": [
       "   component_1  component_2  component_3  component_4  component_5  \\\n",
       "0     0.000831     0.047526     0.166058    -0.053914     0.303857   \n",
       "1     0.000165     0.014917     0.037146    -0.000212    -0.008844   \n",
       "2     0.001376     0.047268     0.142053    -0.134252     0.158789   \n",
       "3     0.000480     0.011787     0.042641     0.004642    -0.001823   \n",
       "4     0.000451     0.010929     0.035688    -0.009113    -0.025787   \n",
       "\n",
       "   component_6  component_7  component_8  component_9  component_10  \\\n",
       "0    -0.230784    -0.212336    -0.059711    -0.041123     -0.040243   \n",
       "1     0.000187     0.002786    -0.000619     0.070699      0.021199   \n",
       "2     0.271589     0.096239     0.003967    -0.036412     -0.009832   \n",
       "3    -0.022365    -0.012399     0.007786     0.020372      0.030803   \n",
       "4    -0.007924    -0.013723    -0.024696     0.003196      0.004363   \n",
       "\n",
       "       ...        component_91  component_92  component_93  component_94  \\\n",
       "0      ...            0.041332     -0.049308     -0.000160     -0.080288   \n",
       "1      ...            0.005693     -0.017511     -0.008939     -0.007358   \n",
       "2      ...           -0.043518     -0.058715      0.022017      0.011769   \n",
       "3      ...            0.032363     -0.007490     -0.013840      0.037017   \n",
       "4      ...           -0.015059      0.004037      0.048332     -0.043391   \n",
       "\n",
       "   component_95  component_96  component_97  component_98  component_99  \\\n",
       "0      0.103986      0.003051      0.004550      0.031368     -0.004892   \n",
       "1      0.014048      0.006628     -0.009145      0.011235     -0.021072   \n",
       "2     -0.055975     -0.034812     -0.009152     -0.030072     -0.062124   \n",
       "3     -0.023748      0.054770     -0.023642      0.062422      0.069843   \n",
       "4      0.019181     -0.043005     -0.026261      0.010088      0.009656   \n",
       "\n",
       "   component_100  \n",
       "0      -0.036757  \n",
       "1      -0.005543  \n",
       "2       0.026225  \n",
       "3      -0.084336  \n",
       "4      -0.023244  \n",
       "\n",
       "[5 rows x 100 columns]"
      ]
     },
     "execution_count": 31,
     "metadata": {},
     "output_type": "execute_result"
    }
   ],
   "source": [
    "svd_df.head()"
   ]
  },
  {
   "cell_type": "code",
   "execution_count": 32,
   "metadata": {},
   "outputs": [],
   "source": [
    "loadings = pd.DataFrame(SVD.components_,\n",
    "                        index=component_names,\n",
    "                        columns=term_df.columns).T"
   ]
  },
  {
   "cell_type": "code",
   "execution_count": 33,
   "metadata": {},
   "outputs": [],
   "source": [
    "loadings['abs_component_1'] = np.abs(loadings.component_1)\n",
    "loadings['abs_component_2'] = np.abs(loadings.component_2)"
   ]
  },
  {
   "cell_type": "code",
   "execution_count": 34,
   "metadata": {},
   "outputs": [
    {
     "data": {
      "text/html": [
       "<div>\n",
       "<style scoped>\n",
       "    .dataframe tbody tr th:only-of-type {\n",
       "        vertical-align: middle;\n",
       "    }\n",
       "\n",
       "    .dataframe tbody tr th {\n",
       "        vertical-align: top;\n",
       "    }\n",
       "\n",
       "    .dataframe thead th {\n",
       "        text-align: right;\n",
       "    }\n",
       "</style>\n",
       "<table border=\"1\" class=\"dataframe\">\n",
       "  <thead>\n",
       "    <tr style=\"text-align: right;\">\n",
       "      <th></th>\n",
       "      <th>component_1</th>\n",
       "    </tr>\n",
       "  </thead>\n",
       "  <tbody>\n",
       "    <tr>\n",
       "      <th>worth</th>\n",
       "      <td>0.410904</td>\n",
       "    </tr>\n",
       "    <tr>\n",
       "      <th>biography</th>\n",
       "      <td>0.408917</td>\n",
       "    </tr>\n",
       "    <tr>\n",
       "      <th>net worth</th>\n",
       "      <td>0.408482</td>\n",
       "    </tr>\n",
       "    <tr>\n",
       "      <th>biography net</th>\n",
       "      <td>0.407499</td>\n",
       "    </tr>\n",
       "    <tr>\n",
       "      <th>biography net worth</th>\n",
       "      <td>0.407499</td>\n",
       "    </tr>\n",
       "    <tr>\n",
       "      <th>net</th>\n",
       "      <td>0.404583</td>\n",
       "    </tr>\n",
       "    <tr>\n",
       "      <th>king</th>\n",
       "      <td>0.010694</td>\n",
       "    </tr>\n",
       "    <tr>\n",
       "      <th>neutrality</th>\n",
       "      <td>0.009383</td>\n",
       "    </tr>\n",
       "    <tr>\n",
       "      <th>net neutrality</th>\n",
       "      <td>0.009383</td>\n",
       "    </tr>\n",
       "    <tr>\n",
       "      <th>bio biography</th>\n",
       "      <td>0.009179</td>\n",
       "    </tr>\n",
       "  </tbody>\n",
       "</table>\n",
       "</div>"
      ],
      "text/plain": [
       "                     component_1\n",
       "worth                   0.410904\n",
       "biography               0.408917\n",
       "net worth               0.408482\n",
       "biography net           0.407499\n",
       "biography net worth     0.407499\n",
       "net                     0.404583\n",
       "king                    0.010694\n",
       "neutrality              0.009383\n",
       "net neutrality          0.009383\n",
       "bio biography           0.009179"
      ]
     },
     "execution_count": 34,
     "metadata": {},
     "output_type": "execute_result"
    }
   ],
   "source": [
    "loadings.sort_values('abs_component_1',ascending=False).head(10)[['component_1']]"
   ]
  },
  {
   "cell_type": "code",
   "execution_count": 35,
   "metadata": {},
   "outputs": [
    {
     "data": {
      "text/html": [
       "<div>\n",
       "<style scoped>\n",
       "    .dataframe tbody tr th:only-of-type {\n",
       "        vertical-align: middle;\n",
       "    }\n",
       "\n",
       "    .dataframe tbody tr th {\n",
       "        vertical-align: top;\n",
       "    }\n",
       "\n",
       "    .dataframe thead th {\n",
       "        text-align: right;\n",
       "    }\n",
       "</style>\n",
       "<table border=\"1\" class=\"dataframe\">\n",
       "  <thead>\n",
       "    <tr style=\"text-align: right;\">\n",
       "      <th></th>\n",
       "      <th>component_2</th>\n",
       "    </tr>\n",
       "  </thead>\n",
       "  <tbody>\n",
       "    <tr>\n",
       "      <th>best</th>\n",
       "      <td>0.916224</td>\n",
       "    </tr>\n",
       "    <tr>\n",
       "      <th>news</th>\n",
       "      <td>0.156035</td>\n",
       "    </tr>\n",
       "    <tr>\n",
       "      <th>best news</th>\n",
       "      <td>0.110157</td>\n",
       "    </tr>\n",
       "    <tr>\n",
       "      <th>help</th>\n",
       "      <td>0.081390</td>\n",
       "    </tr>\n",
       "    <tr>\n",
       "      <th>new</th>\n",
       "      <td>0.080433</td>\n",
       "    </tr>\n",
       "    <tr>\n",
       "      <th>man</th>\n",
       "      <td>0.076859</td>\n",
       "    </tr>\n",
       "    <tr>\n",
       "      <th>trump</th>\n",
       "      <td>0.067857</td>\n",
       "    </tr>\n",
       "    <tr>\n",
       "      <th>free</th>\n",
       "      <td>0.054312</td>\n",
       "    </tr>\n",
       "    <tr>\n",
       "      <th>service</th>\n",
       "      <td>0.054185</td>\n",
       "    </tr>\n",
       "    <tr>\n",
       "      <th>services</th>\n",
       "      <td>0.052638</td>\n",
       "    </tr>\n",
       "  </tbody>\n",
       "</table>\n",
       "</div>"
      ],
      "text/plain": [
       "           component_2\n",
       "best          0.916224\n",
       "news          0.156035\n",
       "best news     0.110157\n",
       "help          0.081390\n",
       "new           0.080433\n",
       "man           0.076859\n",
       "trump         0.067857\n",
       "free          0.054312\n",
       "service       0.054185\n",
       "services      0.052638"
      ]
     },
     "execution_count": 35,
     "metadata": {},
     "output_type": "execute_result"
    }
   ],
   "source": [
    "loadings.sort_values('abs_component_2',ascending=False).head(10)[['component_2']]"
   ]
  },
  {
   "cell_type": "code",
   "execution_count": 36,
   "metadata": {
    "scrolled": true
   },
   "outputs": [
    {
     "data": {
      "text/plain": [
       "(5944, 5944)"
      ]
     },
     "execution_count": 36,
     "metadata": {},
     "output_type": "execute_result"
    }
   ],
   "source": [
    "cos_sim_mat = cosine_similarity(svd_matrix, svd_matrix)\n",
    "cos_sim_mat.shape"
   ]
  },
  {
   "cell_type": "code",
   "execution_count": 37,
   "metadata": {},
   "outputs": [
    {
     "data": {
      "text/plain": [
       "array([  1, 535, 479, 453, 435,  58, 517, 353, 511, 464])"
      ]
     },
     "execution_count": 37,
     "metadata": {},
     "output_type": "execute_result"
    }
   ],
   "source": [
    "np.argsort(cos_sim_mat[1])[:-11:-1]"
   ]
  },
  {
   "cell_type": "code",
   "execution_count": 38,
   "metadata": {},
   "outputs": [
    {
     "data": {
      "text/plain": [
       "array([1.        , 0.99747722, 0.99685205, 0.99614323, 0.99614323,\n",
       "       0.9949985 , 0.98575963, 0.96819086, 0.96819086, 0.9445423 ])"
      ]
     },
     "execution_count": 38,
     "metadata": {},
     "output_type": "execute_result"
    }
   ],
   "source": [
    "np.sort(cos_sim_mat[1])[:-11:-1]"
   ]
  },
  {
   "cell_type": "code",
   "execution_count": 39,
   "metadata": {
    "scrolled": true
   },
   "outputs": [
    {
     "data": {
      "text/html": [
       "<div>\n",
       "<style scoped>\n",
       "    .dataframe tbody tr th:only-of-type {\n",
       "        vertical-align: middle;\n",
       "    }\n",
       "\n",
       "    .dataframe tbody tr th {\n",
       "        vertical-align: top;\n",
       "    }\n",
       "\n",
       "    .dataframe thead th {\n",
       "        text-align: right;\n",
       "    }\n",
       "</style>\n",
       "<table border=\"1\" class=\"dataframe\">\n",
       "  <thead>\n",
       "    <tr style=\"text-align: right;\">\n",
       "      <th></th>\n",
       "      <th>Unnamed: 0</th>\n",
       "      <th>compound</th>\n",
       "      <th>headline</th>\n",
       "      <th>neg</th>\n",
       "      <th>neu</th>\n",
       "      <th>pos</th>\n",
       "      <th>news</th>\n",
       "      <th>label</th>\n",
       "    </tr>\n",
       "  </thead>\n",
       "  <tbody>\n",
       "    <tr>\n",
       "      <th>50</th>\n",
       "      <td>92</td>\n",
       "      <td>0.3400</td>\n",
       "      <td>Oil prices could surge over 90 and create stic...</td>\n",
       "      <td>0.120</td>\n",
       "      <td>0.602</td>\n",
       "      <td>0.278</td>\n",
       "      <td>0</td>\n",
       "      <td>1</td>\n",
       "    </tr>\n",
       "    <tr>\n",
       "      <th>2495</th>\n",
       "      <td>5312</td>\n",
       "      <td>-0.2057</td>\n",
       "      <td>Scott Morrison says Paris targets still on des...</td>\n",
       "      <td>0.168</td>\n",
       "      <td>0.832</td>\n",
       "      <td>0.000</td>\n",
       "      <td>0</td>\n",
       "      <td>-1</td>\n",
       "    </tr>\n",
       "    <tr>\n",
       "      <th>2976</th>\n",
       "      <td>6327</td>\n",
       "      <td>-0.2500</td>\n",
       "      <td>Pompeos NK visit cancelled because of demands ...</td>\n",
       "      <td>0.143</td>\n",
       "      <td>0.857</td>\n",
       "      <td>0.000</td>\n",
       "      <td>0</td>\n",
       "      <td>-1</td>\n",
       "    </tr>\n",
       "    <tr>\n",
       "      <th>3675</th>\n",
       "      <td>1150</td>\n",
       "      <td>0.5719</td>\n",
       "      <td>Alexa Bliss Says Evolution Is What The Womens ...</td>\n",
       "      <td>0.000</td>\n",
       "      <td>0.709</td>\n",
       "      <td>0.291</td>\n",
       "      <td>1</td>\n",
       "      <td>1</td>\n",
       "    </tr>\n",
       "    <tr>\n",
       "      <th>616</th>\n",
       "      <td>1303</td>\n",
       "      <td>-0.3182</td>\n",
       "      <td>AntiSemitism row Corbyn has been misinterprete...</td>\n",
       "      <td>0.223</td>\n",
       "      <td>0.777</td>\n",
       "      <td>0.000</td>\n",
       "      <td>0</td>\n",
       "      <td>-1</td>\n",
       "    </tr>\n",
       "    <tr>\n",
       "      <th>121</th>\n",
       "      <td>232</td>\n",
       "      <td>-0.4767</td>\n",
       "      <td>Cocaine smuggling is corrupting Antwerp politi...</td>\n",
       "      <td>0.307</td>\n",
       "      <td>0.693</td>\n",
       "      <td>0.000</td>\n",
       "      <td>0</td>\n",
       "      <td>-1</td>\n",
       "    </tr>\n",
       "    <tr>\n",
       "      <th>645</th>\n",
       "      <td>1360</td>\n",
       "      <td>0.2023</td>\n",
       "      <td>Former Advisor Of US Treasury Says Blockchain ...</td>\n",
       "      <td>0.000</td>\n",
       "      <td>0.833</td>\n",
       "      <td>0.167</td>\n",
       "      <td>0</td>\n",
       "      <td>1</td>\n",
       "    </tr>\n",
       "    <tr>\n",
       "      <th>2214</th>\n",
       "      <td>4724</td>\n",
       "      <td>0.4939</td>\n",
       "      <td>Leak detected aboard space station but NASA sa...</td>\n",
       "      <td>0.116</td>\n",
       "      <td>0.548</td>\n",
       "      <td>0.336</td>\n",
       "      <td>0</td>\n",
       "      <td>1</td>\n",
       "    </tr>\n",
       "    <tr>\n",
       "      <th>5234</th>\n",
       "      <td>3826</td>\n",
       "      <td>0.5267</td>\n",
       "      <td>Kudlow says economic growth could top 4 for a ...</td>\n",
       "      <td>0.000</td>\n",
       "      <td>0.694</td>\n",
       "      <td>0.306</td>\n",
       "      <td>1</td>\n",
       "      <td>1</td>\n",
       "    </tr>\n",
       "    <tr>\n",
       "      <th>557</th>\n",
       "      <td>1181</td>\n",
       "      <td>0.5106</td>\n",
       "      <td>Theresa May says a 2nd Brexit referendum would...</td>\n",
       "      <td>0.000</td>\n",
       "      <td>0.798</td>\n",
       "      <td>0.202</td>\n",
       "      <td>0</td>\n",
       "      <td>1</td>\n",
       "    </tr>\n",
       "  </tbody>\n",
       "</table>\n",
       "</div>"
      ],
      "text/plain": [
       "      Unnamed: 0  compound                                           headline  \\\n",
       "50            92    0.3400  Oil prices could surge over 90 and create stic...   \n",
       "2495        5312   -0.2057  Scott Morrison says Paris targets still on des...   \n",
       "2976        6327   -0.2500  Pompeos NK visit cancelled because of demands ...   \n",
       "3675        1150    0.5719  Alexa Bliss Says Evolution Is What The Womens ...   \n",
       "616         1303   -0.3182  AntiSemitism row Corbyn has been misinterprete...   \n",
       "121          232   -0.4767  Cocaine smuggling is corrupting Antwerp politi...   \n",
       "645         1360    0.2023  Former Advisor Of US Treasury Says Blockchain ...   \n",
       "2214        4724    0.4939  Leak detected aboard space station but NASA sa...   \n",
       "5234        3826    0.5267  Kudlow says economic growth could top 4 for a ...   \n",
       "557         1181    0.5106  Theresa May says a 2nd Brexit referendum would...   \n",
       "\n",
       "        neg    neu    pos  news  label  \n",
       "50    0.120  0.602  0.278     0      1  \n",
       "2495  0.168  0.832  0.000     0     -1  \n",
       "2976  0.143  0.857  0.000     0     -1  \n",
       "3675  0.000  0.709  0.291     1      1  \n",
       "616   0.223  0.777  0.000     0     -1  \n",
       "121   0.307  0.693  0.000     0     -1  \n",
       "645   0.000  0.833  0.167     0      1  \n",
       "2214  0.116  0.548  0.336     0      1  \n",
       "5234  0.000  0.694  0.306     1      1  \n",
       "557   0.000  0.798  0.202     0      1  "
      ]
     },
     "execution_count": 39,
     "metadata": {},
     "output_type": "execute_result"
    }
   ],
   "source": [
    "df.loc[np.argsort(cos_sim_mat[50])[:-11:-1], :]"
   ]
  },
  {
   "cell_type": "code",
   "execution_count": 41,
   "metadata": {},
   "outputs": [],
   "source": [
    "pipeline = Pipeline([\n",
    "    ('tfidf', TfidfVectorizer()),\n",
    "    ('classifier', RandomForestClassifier())\n",
    "])\n",
    "\n",
    "# Params for classifier\n",
    "params = {\n",
    "    \"classifier__n_estimators\": [50, 100, 150],\n",
    "    \"classifier__max_depth\": [3, None],\n",
    "    \"classifier__max_features\": [10, 25, 50],\n",
    "    \"classifier__min_samples_leaf\": [1, 3, 10],\n",
    "    \"classifier__criterion\": [\"gini\", \"entropy\"],\n",
    "}"
   ]
  },
  {
   "cell_type": "code",
   "execution_count": 42,
   "metadata": {},
   "outputs": [
    {
     "data": {
      "text/plain": [
       "{'classifier__criterion': 'entropy',\n",
       " 'classifier__max_depth': None,\n",
       " 'classifier__max_features': 10,\n",
       " 'classifier__min_samples_leaf': 1,\n",
       " 'classifier__n_estimators': 150}"
      ]
     },
     "execution_count": 42,
     "metadata": {},
     "output_type": "execute_result"
    }
   ],
   "source": [
    "gs = GridSearchCV(estimator=pipeline , param_grid=params) \n",
    "gs_fit = gs.fit(X_train, y_train)\n",
    "gs.best_params_"
   ]
  },
  {
   "cell_type": "code",
   "execution_count": 43,
   "metadata": {},
   "outputs": [
    {
     "data": {
      "text/plain": [
       "0.8133408071748879"
      ]
     },
     "execution_count": 43,
     "metadata": {},
     "output_type": "execute_result"
    }
   ],
   "source": [
    "gs.score(X_test, y_test)"
   ]
  },
  {
   "cell_type": "markdown",
   "metadata": {},
   "source": [
    "This scored slightly better than with MultinomialNB. I will test some new headlines (not in the pulled dataset) against this model."
   ]
  },
  {
   "cell_type": "code",
   "execution_count": 54,
   "metadata": {},
   "outputs": [],
   "source": [
    "new_news = [\"OxyContin creator being sued for \\'significant role in causing opioid epidemic'\",\n",
    "            'Dallas Officer Arrested In Shooting Death Of Botham Shem Jean',\n",
    "            'G14-year-old charged in rape, murder of 83-year-old neighbor']\n",
    "\n",
    "new_upnews = [\"The Sniping Scientists Whose Work Saved Millions of Lives\",\n",
    "            \"NICU volunteer donates a million dollars to local baby unit\",\n",
    "            \"He spent 27 years wrongly convicted of murder. He wants to spend the rest encouraging inmates to read\"]"
   ]
  },
  {
   "cell_type": "code",
   "execution_count": 55,
   "metadata": {},
   "outputs": [
    {
     "data": {
      "text/plain": [
       "array([ 1,  1, -1])"
      ]
     },
     "execution_count": 55,
     "metadata": {},
     "output_type": "execute_result"
    }
   ],
   "source": [
    "gs.predict(new_upnews)"
   ]
  },
  {
   "cell_type": "code",
   "execution_count": 56,
   "metadata": {},
   "outputs": [
    {
     "data": {
      "text/plain": [
       "array([ 1, -1, -1])"
      ]
     },
     "execution_count": 56,
     "metadata": {},
     "output_type": "execute_result"
    }
   ],
   "source": [
    "gs.predict(new_news)"
   ]
  },
  {
   "cell_type": "markdown",
   "metadata": {},
   "source": [
    "# Interpretation/Conclusion"
   ]
  },
  {
   "cell_type": "markdown",
   "metadata": {},
   "source": [
    "Not the best results, but passable. The model got two sentiments wrong, predicting that the third post in upliftingnews is negative, and the first post in news is positive."
   ]
  }
 ],
 "metadata": {
  "kernelspec": {
   "display_name": "Python 3",
   "language": "python",
   "name": "python3"
  },
  "language_info": {
   "codemirror_mode": {
    "name": "ipython",
    "version": 3
   },
   "file_extension": ".py",
   "mimetype": "text/x-python",
   "name": "python",
   "nbconvert_exporter": "python",
   "pygments_lexer": "ipython3",
   "version": "3.6.5"
  }
 },
 "nbformat": 4,
 "nbformat_minor": 2
}
