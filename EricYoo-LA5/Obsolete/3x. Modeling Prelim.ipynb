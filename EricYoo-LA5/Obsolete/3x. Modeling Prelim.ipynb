{
 "cells": [
  {
   "cell_type": "markdown",
   "metadata": {},
   "source": [
    "This is just a test notebook used alongside the prelim data for practice purposes."
   ]
  },
  {
   "cell_type": "code",
   "execution_count": 1,
   "metadata": {},
   "outputs": [
    {
     "name": "stderr",
     "output_type": "stream",
     "text": [
      "/anaconda3/lib/python3.6/site-packages/sklearn/cross_validation.py:41: DeprecationWarning: This module was deprecated in version 0.18 in favor of the model_selection module into which all the refactored classes and functions are moved. Also note that the interface of the new CV iterators are different from that of this module. This module will be removed in 0.20.\n",
      "  \"This module will be removed in 0.20.\", DeprecationWarning)\n",
      "/anaconda3/lib/python3.6/site-packages/sklearn/grid_search.py:42: DeprecationWarning: This module was deprecated in version 0.18 in favor of the model_selection module into which all the refactored classes and functions are moved. This module will be removed in 0.20.\n",
      "  DeprecationWarning)\n"
     ]
    }
   ],
   "source": [
    "import pandas as pd\n",
    "import nltk\n",
    "import numpy as np\n",
    "import json\n",
    "import re\n",
    "from nltk.tokenize import RegexpTokenizer\n",
    "from nltk.tokenize import word_tokenize\n",
    "from nltk.stem import WordNetLemmatizer\n",
    "from sklearn.feature_extraction.text import CountVectorizer\n",
    "from sklearn.feature_extraction.text import TfidfVectorizer\n",
    "from sklearn.decomposition import TruncatedSVD\n",
    "from sklearn.metrics.pairwise import cosine_similarity\n",
    "from sklearn.neighbors import KNeighborsClassifier\n",
    "from sklearn.model_selection import train_test_split\n",
    "from sklearn.grid_search import GridSearchCV\n",
    "from sklearn.pipeline import Pipeline\n",
    "from sklearn.feature_selection import SelectKBest, VarianceThreshold, f_regression, SelectPercentile\n",
    "from sklearn.grid_search import GridSearchCV\n",
    "\n",
    "# NEWS = 0\n",
    "# UPNEWS = 1"
   ]
  },
  {
   "cell_type": "code",
   "execution_count": 2,
   "metadata": {
    "scrolled": true
   },
   "outputs": [],
   "source": [
    "#json_data=open('./API-data/ps_news').read()\n",
    "#news_comments = json.loads(json_data)"
   ]
  },
  {
   "cell_type": "code",
   "execution_count": 3,
   "metadata": {},
   "outputs": [],
   "source": [
    "json_data=open('./API-data/ps_news_posts').read()\n",
    "news_posts = json.loads(json_data)"
   ]
  },
  {
   "cell_type": "code",
   "execution_count": 4,
   "metadata": {},
   "outputs": [],
   "source": [
    "#json_data=open('./API-data/ps_upnews').read()\n",
    "#upnews_comments = json.loads(json_data)"
   ]
  },
  {
   "cell_type": "code",
   "execution_count": 5,
   "metadata": {},
   "outputs": [],
   "source": [
    "json_data=open('./API-data/ps_upnews_posts').read()\n",
    "upnews_posts = json.loads(json_data)"
   ]
  },
  {
   "cell_type": "code",
   "execution_count": 6,
   "metadata": {},
   "outputs": [],
   "source": [
    "import nltk\n",
    "words = set(nltk.corpus.words.words())\n",
    "\n",
    "\n",
    "\n",
    "#\" \".join(w for w in nltk.wordpunct_tokenize(sent) \\\n",
    "#         if w.lower() in words or not w.isalpha())"
   ]
  },
  {
   "cell_type": "code",
   "execution_count": 7,
   "metadata": {},
   "outputs": [],
   "source": [
    "upnews_posts = upnews_posts[:5500]\n",
    "\n",
    "upnews_headlines = [li['title'] for li in upnews_posts]\n",
    "\n",
    "df_upnews_head = pd.DataFrame(upnews_headlines, columns=['headlines'])\n",
    "\n",
    "df_upnews_head.drop_duplicates(inplace=True)"
   ]
  },
  {
   "cell_type": "code",
   "execution_count": 8,
   "metadata": {},
   "outputs": [
    {
     "data": {
      "text/plain": [
       "(4784, 2)"
      ]
     },
     "execution_count": 8,
     "metadata": {},
     "output_type": "execute_result"
    }
   ],
   "source": [
    "df_upnews_head['news'] = 1\n",
    "\n",
    "df_upnews_head.shape"
   ]
  },
  {
   "cell_type": "code",
   "execution_count": 9,
   "metadata": {},
   "outputs": [],
   "source": [
    "news_posts = news_posts[:5500]\n",
    "\n",
    "news_headlines = [li['title'] for li in news_posts]\n",
    "\n",
    "df_news_head = pd.DataFrame(news_headlines, columns=['headlines'])\n",
    "\n",
    "df_news_head.drop_duplicates(inplace=True)"
   ]
  },
  {
   "cell_type": "code",
   "execution_count": 10,
   "metadata": {},
   "outputs": [],
   "source": [
    "df_news_head['news'] = 0"
   ]
  },
  {
   "cell_type": "code",
   "execution_count": 11,
   "metadata": {},
   "outputs": [
    {
     "data": {
      "text/html": [
       "<div>\n",
       "<style scoped>\n",
       "    .dataframe tbody tr th:only-of-type {\n",
       "        vertical-align: middle;\n",
       "    }\n",
       "\n",
       "    .dataframe tbody tr th {\n",
       "        vertical-align: top;\n",
       "    }\n",
       "\n",
       "    .dataframe thead th {\n",
       "        text-align: right;\n",
       "    }\n",
       "</style>\n",
       "<table border=\"1\" class=\"dataframe\">\n",
       "  <thead>\n",
       "    <tr style=\"text-align: right;\">\n",
       "      <th></th>\n",
       "      <th>headlines</th>\n",
       "      <th>news</th>\n",
       "    </tr>\n",
       "  </thead>\n",
       "  <tbody>\n",
       "    <tr>\n",
       "      <th>0</th>\n",
       "      <td>Steve Bannon disinvited from New Yorker festiv...</td>\n",
       "      <td>0</td>\n",
       "    </tr>\n",
       "    <tr>\n",
       "      <th>1</th>\n",
       "      <td>Brazil's National Museum Fire: What It Means f...</td>\n",
       "      <td>0</td>\n",
       "    </tr>\n",
       "    <tr>\n",
       "      <th>2</th>\n",
       "      <td>Democrats, Eyeing a Majority, Prepare an Inves...</td>\n",
       "      <td>0</td>\n",
       "    </tr>\n",
       "    <tr>\n",
       "      <th>3</th>\n",
       "      <td>None of them were Redditors.</td>\n",
       "      <td>0</td>\n",
       "    </tr>\n",
       "    <tr>\n",
       "      <th>4</th>\n",
       "      <td>Seahawks Owner Gives $100k To Help Republicans...</td>\n",
       "      <td>0</td>\n",
       "    </tr>\n",
       "  </tbody>\n",
       "</table>\n",
       "</div>"
      ],
      "text/plain": [
       "                                           headlines  news\n",
       "0  Steve Bannon disinvited from New Yorker festiv...     0\n",
       "1  Brazil's National Museum Fire: What It Means f...     0\n",
       "2  Democrats, Eyeing a Majority, Prepare an Inves...     0\n",
       "3                       None of them were Redditors.     0\n",
       "4  Seahawks Owner Gives $100k To Help Republicans...     0"
      ]
     },
     "execution_count": 11,
     "metadata": {},
     "output_type": "execute_result"
    }
   ],
   "source": [
    "df_news_head.head()"
   ]
  },
  {
   "cell_type": "code",
   "execution_count": 12,
   "metadata": {
    "scrolled": true
   },
   "outputs": [
    {
     "data": {
      "text/html": [
       "<div>\n",
       "<style scoped>\n",
       "    .dataframe tbody tr th:only-of-type {\n",
       "        vertical-align: middle;\n",
       "    }\n",
       "\n",
       "    .dataframe tbody tr th {\n",
       "        vertical-align: top;\n",
       "    }\n",
       "\n",
       "    .dataframe thead th {\n",
       "        text-align: right;\n",
       "    }\n",
       "</style>\n",
       "<table border=\"1\" class=\"dataframe\">\n",
       "  <thead>\n",
       "    <tr style=\"text-align: right;\">\n",
       "      <th></th>\n",
       "      <th>headlines</th>\n",
       "      <th>news</th>\n",
       "    </tr>\n",
       "  </thead>\n",
       "  <tbody>\n",
       "    <tr>\n",
       "      <th>0</th>\n",
       "      <td>10 Nigerian Celebrities Who Have Been Sentence...</td>\n",
       "      <td>1</td>\n",
       "    </tr>\n",
       "    <tr>\n",
       "      <th>1</th>\n",
       "      <td>Philadelphia’s Homeless Are Finding New Hope T...</td>\n",
       "      <td>1</td>\n",
       "    </tr>\n",
       "    <tr>\n",
       "      <th>2</th>\n",
       "      <td>Kindness can change a life</td>\n",
       "      <td>1</td>\n",
       "    </tr>\n",
       "    <tr>\n",
       "      <th>3</th>\n",
       "      <td>Deaf toddler hears for the first time</td>\n",
       "      <td>1</td>\n",
       "    </tr>\n",
       "    <tr>\n",
       "      <th>4</th>\n",
       "      <td>It’s not empty anymore.</td>\n",
       "      <td>1</td>\n",
       "    </tr>\n",
       "  </tbody>\n",
       "</table>\n",
       "</div>"
      ],
      "text/plain": [
       "                                           headlines  news\n",
       "0  10 Nigerian Celebrities Who Have Been Sentence...     1\n",
       "1  Philadelphia’s Homeless Are Finding New Hope T...     1\n",
       "2                         Kindness can change a life     1\n",
       "3              Deaf toddler hears for the first time     1\n",
       "4                            It’s not empty anymore.     1"
      ]
     },
     "execution_count": 12,
     "metadata": {},
     "output_type": "execute_result"
    }
   ],
   "source": [
    "df_upnews_head.head()"
   ]
  },
  {
   "cell_type": "code",
   "execution_count": 13,
   "metadata": {},
   "outputs": [],
   "source": [
    "df = pd.concat((df_upnews_head, df_news_head), axis=0, ignore_index=True)"
   ]
  },
  {
   "cell_type": "code",
   "execution_count": 14,
   "metadata": {},
   "outputs": [],
   "source": [
    "df.headlines = df.headlines.map(lambda x: re.sub('[^a-zA-Z0-9\\s]','', x))\n",
    "df.headlines = df.headlines.map(lambda x: re.sub('/r/News', ' ', x))\n",
    "df.headlines = df.headlines.map(lambda x: re.sub('/r/Upliftingnews', ' ', x))\n",
    "df.headlines = df.headlines.map(lambda x: re.sub('http[^\\s]*', ' ', x))\n"
   ]
  },
  {
   "cell_type": "code",
   "execution_count": 15,
   "metadata": {},
   "outputs": [
    {
     "data": {
      "text/html": [
       "<div>\n",
       "<style scoped>\n",
       "    .dataframe tbody tr th:only-of-type {\n",
       "        vertical-align: middle;\n",
       "    }\n",
       "\n",
       "    .dataframe tbody tr th {\n",
       "        vertical-align: top;\n",
       "    }\n",
       "\n",
       "    .dataframe thead th {\n",
       "        text-align: right;\n",
       "    }\n",
       "</style>\n",
       "<table border=\"1\" class=\"dataframe\">\n",
       "  <thead>\n",
       "    <tr style=\"text-align: right;\">\n",
       "      <th></th>\n",
       "      <th>headlines</th>\n",
       "      <th>news</th>\n",
       "    </tr>\n",
       "  </thead>\n",
       "  <tbody>\n",
       "    <tr>\n",
       "      <th>9946</th>\n",
       "      <td>Hire Expert Residential Painters in Mosman at ...</td>\n",
       "      <td>0</td>\n",
       "    </tr>\n",
       "    <tr>\n",
       "      <th>9947</th>\n",
       "      <td>vinay hari office raid by income tax departmen...</td>\n",
       "      <td>0</td>\n",
       "    </tr>\n",
       "    <tr>\n",
       "      <th>9948</th>\n",
       "      <td>Key Reasons to Purchase Mercedes through their...</td>\n",
       "      <td>0</td>\n",
       "    </tr>\n",
       "    <tr>\n",
       "      <th>9949</th>\n",
       "      <td>Bun chuyn gia nh thiu n 15 tui nhy cu t t</td>\n",
       "      <td>0</td>\n",
       "    </tr>\n",
       "    <tr>\n",
       "      <th>9950</th>\n",
       "      <td>Get the Best Quality and Long Lasting Whiteboa...</td>\n",
       "      <td>0</td>\n",
       "    </tr>\n",
       "    <tr>\n",
       "      <th>9951</th>\n",
       "      <td>Australia Plans to Deny Chelsea Manning an Ent...</td>\n",
       "      <td>0</td>\n",
       "    </tr>\n",
       "    <tr>\n",
       "      <th>9952</th>\n",
       "      <td>Cigar Humidor Cabinet</td>\n",
       "      <td>0</td>\n",
       "    </tr>\n",
       "    <tr>\n",
       "      <th>9953</th>\n",
       "      <td>Smashed 1987 Porsche 959 may get 500000 at auc...</td>\n",
       "      <td>0</td>\n",
       "    </tr>\n",
       "    <tr>\n",
       "      <th>9954</th>\n",
       "      <td>Best location in Udaipur for Weddings  Wedding...</td>\n",
       "      <td>0</td>\n",
       "    </tr>\n",
       "    <tr>\n",
       "      <th>9955</th>\n",
       "      <td>Chemnitz protests Far right on march in east G...</td>\n",
       "      <td>0</td>\n",
       "    </tr>\n",
       "  </tbody>\n",
       "</table>\n",
       "</div>"
      ],
      "text/plain": [
       "                                              headlines  news\n",
       "9946  Hire Expert Residential Painters in Mosman at ...     0\n",
       "9947  vinay hari office raid by income tax departmen...     0\n",
       "9948  Key Reasons to Purchase Mercedes through their...     0\n",
       "9949          Bun chuyn gia nh thiu n 15 tui nhy cu t t     0\n",
       "9950  Get the Best Quality and Long Lasting Whiteboa...     0\n",
       "9951  Australia Plans to Deny Chelsea Manning an Ent...     0\n",
       "9952                              Cigar Humidor Cabinet     0\n",
       "9953  Smashed 1987 Porsche 959 may get 500000 at auc...     0\n",
       "9954  Best location in Udaipur for Weddings  Wedding...     0\n",
       "9955  Chemnitz protests Far right on march in east G...     0"
      ]
     },
     "execution_count": 15,
     "metadata": {},
     "output_type": "execute_result"
    }
   ],
   "source": [
    "df.tail(10)"
   ]
  },
  {
   "cell_type": "code",
   "execution_count": 16,
   "metadata": {},
   "outputs": [],
   "source": [
    "target= df['news']\n",
    "\n",
    "#df_upnews_head['word_count'] = df_upnews_head.headlines.map(lambda x: len(x.split()))\n",
    "\n",
    "cvec = CountVectorizer(stop_words='english', min_df=10, max_df=.95)\n",
    "\n",
    "term_mat = cvec.fit_transform(df['headlines'])"
   ]
  },
  {
   "cell_type": "code",
   "execution_count": 17,
   "metadata": {
    "scrolled": true
   },
   "outputs": [
    {
     "data": {
      "text/plain": [
       "[]"
      ]
     },
     "execution_count": 17,
     "metadata": {},
     "output_type": "execute_result"
    }
   ],
   "source": [
    "cvec.get_feature_names()[3330:]"
   ]
  },
  {
   "cell_type": "code",
   "execution_count": 18,
   "metadata": {},
   "outputs": [],
   "source": [
    "term_df = pd.DataFrame(term_mat.toarray(), columns=cvec.get_feature_names())"
   ]
  },
  {
   "cell_type": "code",
   "execution_count": 19,
   "metadata": {},
   "outputs": [],
   "source": [
    "#term_df.insert(0, 'target', target)"
   ]
  },
  {
   "cell_type": "code",
   "execution_count": null,
   "metadata": {},
   "outputs": [],
   "source": []
  },
  {
   "cell_type": "markdown",
   "metadata": {},
   "source": [
    "# TF-IDF"
   ]
  },
  {
   "cell_type": "code",
   "execution_count": 20,
   "metadata": {},
   "outputs": [],
   "source": [
    "tfidf = TfidfVectorizer(stop_words='english', min_df=10, max_df=.95, ngram_range=(1, 3))"
   ]
  },
  {
   "cell_type": "code",
   "execution_count": 21,
   "metadata": {},
   "outputs": [],
   "source": [
    "term_mat = tfidf.fit_transform(df['headlines'])"
   ]
  },
  {
   "cell_type": "code",
   "execution_count": 22,
   "metadata": {},
   "outputs": [
    {
     "data": {
      "text/plain": [
       "1755"
      ]
     },
     "execution_count": 22,
     "metadata": {},
     "output_type": "execute_result"
    }
   ],
   "source": [
    "len(tfidf.get_feature_names())"
   ]
  },
  {
   "cell_type": "code",
   "execution_count": 23,
   "metadata": {},
   "outputs": [],
   "source": [
    "term_df = pd.SparseDataFrame(term_mat, columns=tfidf.get_feature_names())"
   ]
  },
  {
   "cell_type": "code",
   "execution_count": 24,
   "metadata": {},
   "outputs": [],
   "source": [
    "term_df.fillna(0, inplace=True)"
   ]
  },
  {
   "cell_type": "code",
   "execution_count": 25,
   "metadata": {},
   "outputs": [
    {
     "data": {
      "text/plain": [
       "(9956, 100)"
      ]
     },
     "execution_count": 25,
     "metadata": {},
     "output_type": "execute_result"
    }
   ],
   "source": [
    "SVD = TruncatedSVD(n_components=100)\n",
    "svd_matrix = SVD.fit_transform(term_df)\n",
    "svd_matrix.shape"
   ]
  },
  {
   "cell_type": "code",
   "execution_count": 26,
   "metadata": {},
   "outputs": [],
   "source": [
    "component_names = [\"component_\"+str(i+1) for i in range(100)]\n",
    "svd_df = pd.DataFrame(svd_matrix,\n",
    "                      columns=component_names)"
   ]
  },
  {
   "cell_type": "code",
   "execution_count": 27,
   "metadata": {},
   "outputs": [
    {
     "data": {
      "text/html": [
       "<div>\n",
       "<style scoped>\n",
       "    .dataframe tbody tr th:only-of-type {\n",
       "        vertical-align: middle;\n",
       "    }\n",
       "\n",
       "    .dataframe tbody tr th {\n",
       "        vertical-align: top;\n",
       "    }\n",
       "\n",
       "    .dataframe thead th {\n",
       "        text-align: right;\n",
       "    }\n",
       "</style>\n",
       "<table border=\"1\" class=\"dataframe\">\n",
       "  <thead>\n",
       "    <tr style=\"text-align: right;\">\n",
       "      <th></th>\n",
       "      <th>component_1</th>\n",
       "      <th>component_2</th>\n",
       "      <th>component_3</th>\n",
       "      <th>component_4</th>\n",
       "      <th>component_5</th>\n",
       "      <th>component_6</th>\n",
       "      <th>component_7</th>\n",
       "      <th>component_8</th>\n",
       "      <th>component_9</th>\n",
       "      <th>component_10</th>\n",
       "      <th>...</th>\n",
       "      <th>component_91</th>\n",
       "      <th>component_92</th>\n",
       "      <th>component_93</th>\n",
       "      <th>component_94</th>\n",
       "      <th>component_95</th>\n",
       "      <th>component_96</th>\n",
       "      <th>component_97</th>\n",
       "      <th>component_98</th>\n",
       "      <th>component_99</th>\n",
       "      <th>component_100</th>\n",
       "    </tr>\n",
       "  </thead>\n",
       "  <tbody>\n",
       "    <tr>\n",
       "      <th>0</th>\n",
       "      <td>4.378269e-04</td>\n",
       "      <td>3.581281e-02</td>\n",
       "      <td>4.190590e-02</td>\n",
       "      <td>6.067975e-03</td>\n",
       "      <td>-2.301837e-03</td>\n",
       "      <td>1.238206e-02</td>\n",
       "      <td>-1.407425e-02</td>\n",
       "      <td>-4.478882e-02</td>\n",
       "      <td>2.724372e-02</td>\n",
       "      <td>-6.869977e-02</td>\n",
       "      <td>...</td>\n",
       "      <td>9.332478e-03</td>\n",
       "      <td>9.965965e-03</td>\n",
       "      <td>1.414001e-03</td>\n",
       "      <td>3.585334e-02</td>\n",
       "      <td>-2.722559e-02</td>\n",
       "      <td>-1.081286e-02</td>\n",
       "      <td>2.859336e-02</td>\n",
       "      <td>8.497332e-03</td>\n",
       "      <td>7.321627e-04</td>\n",
       "      <td>4.111183e-02</td>\n",
       "    </tr>\n",
       "    <tr>\n",
       "      <th>1</th>\n",
       "      <td>1.151854e-03</td>\n",
       "      <td>2.840461e-02</td>\n",
       "      <td>1.366205e-01</td>\n",
       "      <td>-3.504661e-02</td>\n",
       "      <td>-1.649879e-01</td>\n",
       "      <td>-1.165797e-02</td>\n",
       "      <td>-9.156888e-02</td>\n",
       "      <td>8.724432e-02</td>\n",
       "      <td>-2.371246e-02</td>\n",
       "      <td>7.898096e-03</td>\n",
       "      <td>...</td>\n",
       "      <td>1.500122e-02</td>\n",
       "      <td>-1.922298e-02</td>\n",
       "      <td>1.193739e-02</td>\n",
       "      <td>1.310233e-02</td>\n",
       "      <td>-1.006083e-02</td>\n",
       "      <td>-2.148884e-02</td>\n",
       "      <td>2.914212e-02</td>\n",
       "      <td>-4.224745e-03</td>\n",
       "      <td>2.127501e-02</td>\n",
       "      <td>-1.879696e-02</td>\n",
       "    </tr>\n",
       "    <tr>\n",
       "      <th>2</th>\n",
       "      <td>5.402404e-03</td>\n",
       "      <td>1.134675e-02</td>\n",
       "      <td>5.411019e-02</td>\n",
       "      <td>-1.517680e-02</td>\n",
       "      <td>-2.377572e-02</td>\n",
       "      <td>-2.100344e-03</td>\n",
       "      <td>-1.433148e-02</td>\n",
       "      <td>-5.108403e-02</td>\n",
       "      <td>6.877048e-03</td>\n",
       "      <td>-4.172941e-03</td>\n",
       "      <td>...</td>\n",
       "      <td>-2.293278e-02</td>\n",
       "      <td>-3.296433e-02</td>\n",
       "      <td>6.455118e-02</td>\n",
       "      <td>2.225283e-02</td>\n",
       "      <td>2.900723e-02</td>\n",
       "      <td>-5.862264e-02</td>\n",
       "      <td>1.958000e-02</td>\n",
       "      <td>1.836610e-02</td>\n",
       "      <td>-2.579750e-02</td>\n",
       "      <td>9.988669e-03</td>\n",
       "    </tr>\n",
       "    <tr>\n",
       "      <th>3</th>\n",
       "      <td>7.655332e-04</td>\n",
       "      <td>1.117767e-02</td>\n",
       "      <td>4.116448e-02</td>\n",
       "      <td>-1.858101e-02</td>\n",
       "      <td>-8.013624e-03</td>\n",
       "      <td>-8.853561e-03</td>\n",
       "      <td>2.675275e-03</td>\n",
       "      <td>-1.035064e-02</td>\n",
       "      <td>-9.725729e-03</td>\n",
       "      <td>-3.357947e-04</td>\n",
       "      <td>...</td>\n",
       "      <td>4.598777e-04</td>\n",
       "      <td>-1.135351e-02</td>\n",
       "      <td>-1.059310e-02</td>\n",
       "      <td>-1.145976e-02</td>\n",
       "      <td>-5.422667e-03</td>\n",
       "      <td>5.171741e-03</td>\n",
       "      <td>-1.918576e-03</td>\n",
       "      <td>1.797697e-02</td>\n",
       "      <td>-3.193196e-03</td>\n",
       "      <td>-3.088185e-02</td>\n",
       "    </tr>\n",
       "    <tr>\n",
       "      <th>4</th>\n",
       "      <td>-1.765623e-17</td>\n",
       "      <td>-1.057163e-16</td>\n",
       "      <td>-7.103325e-17</td>\n",
       "      <td>7.504676e-16</td>\n",
       "      <td>-1.362751e-16</td>\n",
       "      <td>2.926488e-16</td>\n",
       "      <td>1.191594e-15</td>\n",
       "      <td>-9.121463e-16</td>\n",
       "      <td>8.085944e-17</td>\n",
       "      <td>1.170577e-16</td>\n",
       "      <td>...</td>\n",
       "      <td>-1.014482e-16</td>\n",
       "      <td>-3.554912e-16</td>\n",
       "      <td>-1.088508e-16</td>\n",
       "      <td>-8.939971e-17</td>\n",
       "      <td>7.013706e-17</td>\n",
       "      <td>-5.375870e-17</td>\n",
       "      <td>1.366482e-16</td>\n",
       "      <td>1.430117e-17</td>\n",
       "      <td>5.454044e-17</td>\n",
       "      <td>2.027219e-16</td>\n",
       "    </tr>\n",
       "  </tbody>\n",
       "</table>\n",
       "<p>5 rows × 100 columns</p>\n",
       "</div>"
      ],
      "text/plain": [
       "    component_1   component_2   component_3   component_4   component_5  \\\n",
       "0  4.378269e-04  3.581281e-02  4.190590e-02  6.067975e-03 -2.301837e-03   \n",
       "1  1.151854e-03  2.840461e-02  1.366205e-01 -3.504661e-02 -1.649879e-01   \n",
       "2  5.402404e-03  1.134675e-02  5.411019e-02 -1.517680e-02 -2.377572e-02   \n",
       "3  7.655332e-04  1.117767e-02  4.116448e-02 -1.858101e-02 -8.013624e-03   \n",
       "4 -1.765623e-17 -1.057163e-16 -7.103325e-17  7.504676e-16 -1.362751e-16   \n",
       "\n",
       "    component_6   component_7   component_8   component_9  component_10  \\\n",
       "0  1.238206e-02 -1.407425e-02 -4.478882e-02  2.724372e-02 -6.869977e-02   \n",
       "1 -1.165797e-02 -9.156888e-02  8.724432e-02 -2.371246e-02  7.898096e-03   \n",
       "2 -2.100344e-03 -1.433148e-02 -5.108403e-02  6.877048e-03 -4.172941e-03   \n",
       "3 -8.853561e-03  2.675275e-03 -1.035064e-02 -9.725729e-03 -3.357947e-04   \n",
       "4  2.926488e-16  1.191594e-15 -9.121463e-16  8.085944e-17  1.170577e-16   \n",
       "\n",
       "       ...        component_91  component_92  component_93  component_94  \\\n",
       "0      ...        9.332478e-03  9.965965e-03  1.414001e-03  3.585334e-02   \n",
       "1      ...        1.500122e-02 -1.922298e-02  1.193739e-02  1.310233e-02   \n",
       "2      ...       -2.293278e-02 -3.296433e-02  6.455118e-02  2.225283e-02   \n",
       "3      ...        4.598777e-04 -1.135351e-02 -1.059310e-02 -1.145976e-02   \n",
       "4      ...       -1.014482e-16 -3.554912e-16 -1.088508e-16 -8.939971e-17   \n",
       "\n",
       "   component_95  component_96  component_97  component_98  component_99  \\\n",
       "0 -2.722559e-02 -1.081286e-02  2.859336e-02  8.497332e-03  7.321627e-04   \n",
       "1 -1.006083e-02 -2.148884e-02  2.914212e-02 -4.224745e-03  2.127501e-02   \n",
       "2  2.900723e-02 -5.862264e-02  1.958000e-02  1.836610e-02 -2.579750e-02   \n",
       "3 -5.422667e-03  5.171741e-03 -1.918576e-03  1.797697e-02 -3.193196e-03   \n",
       "4  7.013706e-17 -5.375870e-17  1.366482e-16  1.430117e-17  5.454044e-17   \n",
       "\n",
       "   component_100  \n",
       "0   4.111183e-02  \n",
       "1  -1.879696e-02  \n",
       "2   9.988669e-03  \n",
       "3  -3.088185e-02  \n",
       "4   2.027219e-16  \n",
       "\n",
       "[5 rows x 100 columns]"
      ]
     },
     "execution_count": 27,
     "metadata": {},
     "output_type": "execute_result"
    }
   ],
   "source": [
    "svd_df.head()"
   ]
  },
  {
   "cell_type": "code",
   "execution_count": 28,
   "metadata": {},
   "outputs": [],
   "source": [
    "loadings = pd.DataFrame(SVD.components_,\n",
    "                        index=component_names,\n",
    "                        columns=term_df.columns).T"
   ]
  },
  {
   "cell_type": "code",
   "execution_count": 29,
   "metadata": {},
   "outputs": [],
   "source": [
    "loadings['abs_component_1'] = np.abs(loadings.component_1)\n",
    "loadings['abs_component_2'] = np.abs(loadings.component_2)"
   ]
  },
  {
   "cell_type": "code",
   "execution_count": 30,
   "metadata": {},
   "outputs": [
    {
     "data": {
      "text/html": [
       "<div>\n",
       "<style scoped>\n",
       "    .dataframe tbody tr th:only-of-type {\n",
       "        vertical-align: middle;\n",
       "    }\n",
       "\n",
       "    .dataframe tbody tr th {\n",
       "        vertical-align: top;\n",
       "    }\n",
       "\n",
       "    .dataframe thead th {\n",
       "        text-align: right;\n",
       "    }\n",
       "</style>\n",
       "<table border=\"1\" class=\"dataframe\">\n",
       "  <thead>\n",
       "    <tr style=\"text-align: right;\">\n",
       "      <th></th>\n",
       "      <th>component_1</th>\n",
       "      <th>component_2</th>\n",
       "      <th>component_3</th>\n",
       "      <th>component_4</th>\n",
       "      <th>component_5</th>\n",
       "      <th>component_6</th>\n",
       "      <th>component_7</th>\n",
       "      <th>component_8</th>\n",
       "      <th>component_9</th>\n",
       "      <th>component_10</th>\n",
       "      <th>...</th>\n",
       "      <th>component_93</th>\n",
       "      <th>component_94</th>\n",
       "      <th>component_95</th>\n",
       "      <th>component_96</th>\n",
       "      <th>component_97</th>\n",
       "      <th>component_98</th>\n",
       "      <th>component_99</th>\n",
       "      <th>component_100</th>\n",
       "      <th>abs_component_1</th>\n",
       "      <th>abs_component_2</th>\n",
       "    </tr>\n",
       "  </thead>\n",
       "  <tbody>\n",
       "    <tr>\n",
       "      <th>youngest</th>\n",
       "      <td>0.000059</td>\n",
       "      <td>0.000759</td>\n",
       "      <td>0.003609</td>\n",
       "      <td>-0.001007</td>\n",
       "      <td>-0.001551</td>\n",
       "      <td>0.000772</td>\n",
       "      <td>-0.001531</td>\n",
       "      <td>-0.004259</td>\n",
       "      <td>-0.000328</td>\n",
       "      <td>-0.000280</td>\n",
       "      <td>...</td>\n",
       "      <td>-0.001377</td>\n",
       "      <td>0.008332</td>\n",
       "      <td>0.002738</td>\n",
       "      <td>-0.007588</td>\n",
       "      <td>-0.007640</td>\n",
       "      <td>0.009376</td>\n",
       "      <td>-0.006159</td>\n",
       "      <td>0.004307</td>\n",
       "      <td>0.000059</td>\n",
       "      <td>0.000759</td>\n",
       "    </tr>\n",
       "    <tr>\n",
       "      <th>youre</th>\n",
       "      <td>0.000044</td>\n",
       "      <td>0.001951</td>\n",
       "      <td>0.007738</td>\n",
       "      <td>-0.002801</td>\n",
       "      <td>0.001486</td>\n",
       "      <td>-0.000496</td>\n",
       "      <td>-0.000952</td>\n",
       "      <td>-0.000426</td>\n",
       "      <td>-0.003115</td>\n",
       "      <td>-0.001747</td>\n",
       "      <td>...</td>\n",
       "      <td>-0.008067</td>\n",
       "      <td>0.002748</td>\n",
       "      <td>-0.003928</td>\n",
       "      <td>0.008108</td>\n",
       "      <td>-0.002180</td>\n",
       "      <td>-0.002447</td>\n",
       "      <td>0.003258</td>\n",
       "      <td>0.001336</td>\n",
       "      <td>0.000044</td>\n",
       "      <td>0.001951</td>\n",
       "    </tr>\n",
       "    <tr>\n",
       "      <th>youth</th>\n",
       "      <td>0.000072</td>\n",
       "      <td>0.001339</td>\n",
       "      <td>0.006722</td>\n",
       "      <td>-0.001861</td>\n",
       "      <td>-0.001853</td>\n",
       "      <td>-0.000075</td>\n",
       "      <td>-0.004175</td>\n",
       "      <td>-0.001643</td>\n",
       "      <td>-0.004402</td>\n",
       "      <td>-0.000394</td>\n",
       "      <td>...</td>\n",
       "      <td>0.000892</td>\n",
       "      <td>-0.005739</td>\n",
       "      <td>-0.004191</td>\n",
       "      <td>0.007608</td>\n",
       "      <td>-0.005658</td>\n",
       "      <td>0.000559</td>\n",
       "      <td>-0.002687</td>\n",
       "      <td>0.005697</td>\n",
       "      <td>0.000072</td>\n",
       "      <td>0.001339</td>\n",
       "    </tr>\n",
       "    <tr>\n",
       "      <th>youtube</th>\n",
       "      <td>0.000087</td>\n",
       "      <td>0.035859</td>\n",
       "      <td>0.001394</td>\n",
       "      <td>-0.003475</td>\n",
       "      <td>-0.003233</td>\n",
       "      <td>0.005546</td>\n",
       "      <td>-0.000958</td>\n",
       "      <td>0.001902</td>\n",
       "      <td>-0.003657</td>\n",
       "      <td>-0.022571</td>\n",
       "      <td>...</td>\n",
       "      <td>0.021883</td>\n",
       "      <td>0.023125</td>\n",
       "      <td>0.040911</td>\n",
       "      <td>-0.001928</td>\n",
       "      <td>0.006975</td>\n",
       "      <td>-0.049203</td>\n",
       "      <td>-0.012039</td>\n",
       "      <td>0.026027</td>\n",
       "      <td>0.000087</td>\n",
       "      <td>0.035859</td>\n",
       "    </tr>\n",
       "    <tr>\n",
       "      <th>zealand</th>\n",
       "      <td>0.000093</td>\n",
       "      <td>0.002694</td>\n",
       "      <td>0.013557</td>\n",
       "      <td>-0.003463</td>\n",
       "      <td>-0.019439</td>\n",
       "      <td>-0.002408</td>\n",
       "      <td>-0.011043</td>\n",
       "      <td>0.018299</td>\n",
       "      <td>-0.004490</td>\n",
       "      <td>0.000655</td>\n",
       "      <td>...</td>\n",
       "      <td>0.017536</td>\n",
       "      <td>0.000839</td>\n",
       "      <td>0.019314</td>\n",
       "      <td>0.003079</td>\n",
       "      <td>0.011261</td>\n",
       "      <td>-0.000593</td>\n",
       "      <td>-0.009763</td>\n",
       "      <td>-0.015223</td>\n",
       "      <td>0.000093</td>\n",
       "      <td>0.002694</td>\n",
       "    </tr>\n",
       "  </tbody>\n",
       "</table>\n",
       "<p>5 rows × 102 columns</p>\n",
       "</div>"
      ],
      "text/plain": [
       "          component_1  component_2  component_3  component_4  component_5  \\\n",
       "youngest     0.000059     0.000759     0.003609    -0.001007    -0.001551   \n",
       "youre        0.000044     0.001951     0.007738    -0.002801     0.001486   \n",
       "youth        0.000072     0.001339     0.006722    -0.001861    -0.001853   \n",
       "youtube      0.000087     0.035859     0.001394    -0.003475    -0.003233   \n",
       "zealand      0.000093     0.002694     0.013557    -0.003463    -0.019439   \n",
       "\n",
       "          component_6  component_7  component_8  component_9  component_10  \\\n",
       "youngest     0.000772    -0.001531    -0.004259    -0.000328     -0.000280   \n",
       "youre       -0.000496    -0.000952    -0.000426    -0.003115     -0.001747   \n",
       "youth       -0.000075    -0.004175    -0.001643    -0.004402     -0.000394   \n",
       "youtube      0.005546    -0.000958     0.001902    -0.003657     -0.022571   \n",
       "zealand     -0.002408    -0.011043     0.018299    -0.004490      0.000655   \n",
       "\n",
       "               ...         component_93  component_94  component_95  \\\n",
       "youngest       ...            -0.001377      0.008332      0.002738   \n",
       "youre          ...            -0.008067      0.002748     -0.003928   \n",
       "youth          ...             0.000892     -0.005739     -0.004191   \n",
       "youtube        ...             0.021883      0.023125      0.040911   \n",
       "zealand        ...             0.017536      0.000839      0.019314   \n",
       "\n",
       "          component_96  component_97  component_98  component_99  \\\n",
       "youngest     -0.007588     -0.007640      0.009376     -0.006159   \n",
       "youre         0.008108     -0.002180     -0.002447      0.003258   \n",
       "youth         0.007608     -0.005658      0.000559     -0.002687   \n",
       "youtube      -0.001928      0.006975     -0.049203     -0.012039   \n",
       "zealand       0.003079      0.011261     -0.000593     -0.009763   \n",
       "\n",
       "          component_100  abs_component_1  abs_component_2  \n",
       "youngest       0.004307         0.000059         0.000759  \n",
       "youre          0.001336         0.000044         0.001951  \n",
       "youth          0.005697         0.000072         0.001339  \n",
       "youtube        0.026027         0.000087         0.035859  \n",
       "zealand       -0.015223         0.000093         0.002694  \n",
       "\n",
       "[5 rows x 102 columns]"
      ]
     },
     "execution_count": 30,
     "metadata": {},
     "output_type": "execute_result"
    }
   ],
   "source": [
    "loadings.tail()"
   ]
  },
  {
   "cell_type": "code",
   "execution_count": 31,
   "metadata": {},
   "outputs": [
    {
     "data": {
      "text/html": [
       "<div>\n",
       "<style scoped>\n",
       "    .dataframe tbody tr th:only-of-type {\n",
       "        vertical-align: middle;\n",
       "    }\n",
       "\n",
       "    .dataframe tbody tr th {\n",
       "        vertical-align: top;\n",
       "    }\n",
       "\n",
       "    .dataframe thead th {\n",
       "        text-align: right;\n",
       "    }\n",
       "</style>\n",
       "<table border=\"1\" class=\"dataframe\">\n",
       "  <thead>\n",
       "    <tr style=\"text-align: right;\">\n",
       "      <th></th>\n",
       "      <th>component_1</th>\n",
       "    </tr>\n",
       "  </thead>\n",
       "  <tbody>\n",
       "    <tr>\n",
       "      <th>worth</th>\n",
       "      <td>0.411728</td>\n",
       "    </tr>\n",
       "    <tr>\n",
       "      <th>biography</th>\n",
       "      <td>0.410734</td>\n",
       "    </tr>\n",
       "    <tr>\n",
       "      <th>net worth</th>\n",
       "      <td>0.407664</td>\n",
       "    </tr>\n",
       "    <tr>\n",
       "      <th>net</th>\n",
       "      <td>0.406981</td>\n",
       "    </tr>\n",
       "    <tr>\n",
       "      <th>biography net worth</th>\n",
       "      <td>0.404730</td>\n",
       "    </tr>\n",
       "    <tr>\n",
       "      <th>biography net</th>\n",
       "      <td>0.404730</td>\n",
       "    </tr>\n",
       "    <tr>\n",
       "      <th>neutrality</th>\n",
       "      <td>0.014333</td>\n",
       "    </tr>\n",
       "    <tr>\n",
       "      <th>net neutrality</th>\n",
       "      <td>0.014333</td>\n",
       "    </tr>\n",
       "    <tr>\n",
       "      <th>life</th>\n",
       "      <td>0.010919</td>\n",
       "    </tr>\n",
       "    <tr>\n",
       "      <th>bio biography</th>\n",
       "      <td>0.010459</td>\n",
       "    </tr>\n",
       "    <tr>\n",
       "      <th>history</th>\n",
       "      <td>0.010380</td>\n",
       "    </tr>\n",
       "    <tr>\n",
       "      <th>bio</th>\n",
       "      <td>0.010268</td>\n",
       "    </tr>\n",
       "    <tr>\n",
       "      <th>california</th>\n",
       "      <td>0.010263</td>\n",
       "    </tr>\n",
       "    <tr>\n",
       "      <th>law</th>\n",
       "      <td>0.009072</td>\n",
       "    </tr>\n",
       "    <tr>\n",
       "      <th>biography age</th>\n",
       "      <td>0.008969</td>\n",
       "    </tr>\n",
       "    <tr>\n",
       "      <th>bio biography age</th>\n",
       "      <td>0.008969</td>\n",
       "    </tr>\n",
       "    <tr>\n",
       "      <th>king</th>\n",
       "      <td>0.008448</td>\n",
       "    </tr>\n",
       "    <tr>\n",
       "      <th>johnson</th>\n",
       "      <td>0.008318</td>\n",
       "    </tr>\n",
       "    <tr>\n",
       "      <th>age</th>\n",
       "      <td>0.008235</td>\n",
       "    </tr>\n",
       "    <tr>\n",
       "      <th>market</th>\n",
       "      <td>0.006930</td>\n",
       "    </tr>\n",
       "  </tbody>\n",
       "</table>\n",
       "</div>"
      ],
      "text/plain": [
       "                     component_1\n",
       "worth                   0.411728\n",
       "biography               0.410734\n",
       "net worth               0.407664\n",
       "net                     0.406981\n",
       "biography net worth     0.404730\n",
       "biography net           0.404730\n",
       "neutrality              0.014333\n",
       "net neutrality          0.014333\n",
       "life                    0.010919\n",
       "bio biography           0.010459\n",
       "history                 0.010380\n",
       "bio                     0.010268\n",
       "california              0.010263\n",
       "law                     0.009072\n",
       "biography age           0.008969\n",
       "bio biography age       0.008969\n",
       "king                    0.008448\n",
       "johnson                 0.008318\n",
       "age                     0.008235\n",
       "market                  0.006930"
      ]
     },
     "execution_count": 31,
     "metadata": {},
     "output_type": "execute_result"
    }
   ],
   "source": [
    "loadings.sort_values('abs_component_1',ascending=False).head(20)[['component_1']]"
   ]
  },
  {
   "cell_type": "code",
   "execution_count": 32,
   "metadata": {},
   "outputs": [
    {
     "data": {
      "text/html": [
       "<div>\n",
       "<style scoped>\n",
       "    .dataframe tbody tr th:only-of-type {\n",
       "        vertical-align: middle;\n",
       "    }\n",
       "\n",
       "    .dataframe tbody tr th {\n",
       "        vertical-align: top;\n",
       "    }\n",
       "\n",
       "    .dataframe thead th {\n",
       "        text-align: right;\n",
       "    }\n",
       "</style>\n",
       "<table border=\"1\" class=\"dataframe\">\n",
       "  <thead>\n",
       "    <tr style=\"text-align: right;\">\n",
       "      <th></th>\n",
       "      <th>component_2</th>\n",
       "    </tr>\n",
       "  </thead>\n",
       "  <tbody>\n",
       "    <tr>\n",
       "      <th>rokambola</th>\n",
       "      <td>0.492558</td>\n",
       "    </tr>\n",
       "    <tr>\n",
       "      <th>la</th>\n",
       "      <td>0.481783</td>\n",
       "    </tr>\n",
       "    <tr>\n",
       "      <th>repetirmastecno</th>\n",
       "      <td>0.352855</td>\n",
       "    </tr>\n",
       "    <tr>\n",
       "      <th>en</th>\n",
       "      <td>0.290822</td>\n",
       "    </tr>\n",
       "    <tr>\n",
       "      <th>el</th>\n",
       "      <td>0.253725</td>\n",
       "    </tr>\n",
       "    <tr>\n",
       "      <th>que</th>\n",
       "      <td>0.218619</td>\n",
       "    </tr>\n",
       "    <tr>\n",
       "      <th>para</th>\n",
       "      <td>0.208595</td>\n",
       "    </tr>\n",
       "    <tr>\n",
       "      <th>del</th>\n",
       "      <td>0.140477</td>\n",
       "    </tr>\n",
       "    <tr>\n",
       "      <th>los</th>\n",
       "      <td>0.123716</td>\n",
       "    </tr>\n",
       "    <tr>\n",
       "      <th>las</th>\n",
       "      <td>0.097853</td>\n",
       "    </tr>\n",
       "    <tr>\n",
       "      <th>2018</th>\n",
       "      <td>0.087286</td>\n",
       "    </tr>\n",
       "    <tr>\n",
       "      <th>ms</th>\n",
       "      <td>0.084244</td>\n",
       "    </tr>\n",
       "    <tr>\n",
       "      <th>su</th>\n",
       "      <td>0.079896</td>\n",
       "    </tr>\n",
       "    <tr>\n",
       "      <th>por</th>\n",
       "      <td>0.077382</td>\n",
       "    </tr>\n",
       "    <tr>\n",
       "      <th>new</th>\n",
       "      <td>0.076724</td>\n",
       "    </tr>\n",
       "    <tr>\n",
       "      <th>10</th>\n",
       "      <td>0.072560</td>\n",
       "    </tr>\n",
       "    <tr>\n",
       "      <th>repetirelrincon</th>\n",
       "      <td>0.069931</td>\n",
       "    </tr>\n",
       "    <tr>\n",
       "      <th>news</th>\n",
       "      <td>0.066243</td>\n",
       "    </tr>\n",
       "    <tr>\n",
       "      <th>es</th>\n",
       "      <td>0.064458</td>\n",
       "    </tr>\n",
       "    <tr>\n",
       "      <th>trump</th>\n",
       "      <td>0.057857</td>\n",
       "    </tr>\n",
       "  </tbody>\n",
       "</table>\n",
       "</div>"
      ],
      "text/plain": [
       "                 component_2\n",
       "rokambola           0.492558\n",
       "la                  0.481783\n",
       "repetirmastecno     0.352855\n",
       "en                  0.290822\n",
       "el                  0.253725\n",
       "que                 0.218619\n",
       "para                0.208595\n",
       "del                 0.140477\n",
       "los                 0.123716\n",
       "las                 0.097853\n",
       "2018                0.087286\n",
       "ms                  0.084244\n",
       "su                  0.079896\n",
       "por                 0.077382\n",
       "new                 0.076724\n",
       "10                  0.072560\n",
       "repetirelrincon     0.069931\n",
       "news                0.066243\n",
       "es                  0.064458\n",
       "trump               0.057857"
      ]
     },
     "execution_count": 32,
     "metadata": {},
     "output_type": "execute_result"
    }
   ],
   "source": [
    "loadings.sort_values('abs_component_2',ascending=False).head(20)[['component_2']]"
   ]
  },
  {
   "cell_type": "markdown",
   "metadata": {},
   "source": [
    "# Cosine Similarity"
   ]
  },
  {
   "cell_type": "code",
   "execution_count": 33,
   "metadata": {},
   "outputs": [
    {
     "data": {
      "text/plain": [
       "(9956, 9956)"
      ]
     },
     "execution_count": 33,
     "metadata": {},
     "output_type": "execute_result"
    }
   ],
   "source": [
    "cos_sim_mat = cosine_similarity(svd_matrix, svd_matrix)\n",
    "cos_sim_mat.shape"
   ]
  },
  {
   "cell_type": "code",
   "execution_count": 34,
   "metadata": {},
   "outputs": [
    {
     "data": {
      "text/plain": [
       "array([   1, 2679, 6860, 2169, 2656, 2138, 1739, 8851,  415, 3471])"
      ]
     },
     "execution_count": 34,
     "metadata": {},
     "output_type": "execute_result"
    }
   ],
   "source": [
    "np.argsort(cos_sim_mat[1])[:-11:-1]"
   ]
  },
  {
   "cell_type": "code",
   "execution_count": 35,
   "metadata": {},
   "outputs": [
    {
     "data": {
      "text/plain": [
       "array([1.        , 0.73391359, 0.72786634, 0.72506317, 0.72499505,\n",
       "       0.72360084, 0.72139795, 0.70876044, 0.70787806, 0.70559228])"
      ]
     },
     "execution_count": 35,
     "metadata": {},
     "output_type": "execute_result"
    }
   ],
   "source": [
    "np.sort(cos_sim_mat[1])[:-11:-1]"
   ]
  },
  {
   "cell_type": "code",
   "execution_count": 36,
   "metadata": {},
   "outputs": [
    {
     "data": {
      "text/html": [
       "<div>\n",
       "<style scoped>\n",
       "    .dataframe tbody tr th:only-of-type {\n",
       "        vertical-align: middle;\n",
       "    }\n",
       "\n",
       "    .dataframe tbody tr th {\n",
       "        vertical-align: top;\n",
       "    }\n",
       "\n",
       "    .dataframe thead th {\n",
       "        text-align: right;\n",
       "    }\n",
       "</style>\n",
       "<table border=\"1\" class=\"dataframe\">\n",
       "  <thead>\n",
       "    <tr style=\"text-align: right;\">\n",
       "      <th></th>\n",
       "      <th>headlines</th>\n",
       "      <th>news</th>\n",
       "    </tr>\n",
       "  </thead>\n",
       "  <tbody>\n",
       "    <tr>\n",
       "      <th>50</th>\n",
       "      <td>Same Day Agra Tour</td>\n",
       "      <td>1</td>\n",
       "    </tr>\n",
       "    <tr>\n",
       "      <th>5717</th>\n",
       "      <td>DUBAI DESERT SAFARI EVENING DESERT SAFARI HUMM...</td>\n",
       "      <td>0</td>\n",
       "    </tr>\n",
       "    <tr>\n",
       "      <th>1303</th>\n",
       "      <td>This fart joke will brighten your day</td>\n",
       "      <td>1</td>\n",
       "    </tr>\n",
       "    <tr>\n",
       "      <th>6651</th>\n",
       "      <td>Arthritis pain Relieve symptoms of condition w...</td>\n",
       "      <td>0</td>\n",
       "    </tr>\n",
       "    <tr>\n",
       "      <th>921</th>\n",
       "      <td>Clear the Shelters day was a success here in T...</td>\n",
       "      <td>1</td>\n",
       "    </tr>\n",
       "    <tr>\n",
       "      <th>2235</th>\n",
       "      <td>The Shocking Day My Husband Intervened</td>\n",
       "      <td>1</td>\n",
       "    </tr>\n",
       "    <tr>\n",
       "      <th>3915</th>\n",
       "      <td>Prime Day is tomorrow</td>\n",
       "      <td>1</td>\n",
       "    </tr>\n",
       "    <tr>\n",
       "      <th>7970</th>\n",
       "      <td>Severe storms in Midwest as most of eastern US...</td>\n",
       "      <td>0</td>\n",
       "    </tr>\n",
       "    <tr>\n",
       "      <th>6311</th>\n",
       "      <td>6 cars and 6 unexpected Labor Day weekend geta...</td>\n",
       "      <td>0</td>\n",
       "    </tr>\n",
       "    <tr>\n",
       "      <th>7466</th>\n",
       "      <td>Americans Are Grilling More Steaks for Labor D...</td>\n",
       "      <td>0</td>\n",
       "    </tr>\n",
       "  </tbody>\n",
       "</table>\n",
       "</div>"
      ],
      "text/plain": [
       "                                              headlines  news\n",
       "50                                   Same Day Agra Tour     1\n",
       "5717  DUBAI DESERT SAFARI EVENING DESERT SAFARI HUMM...     0\n",
       "1303              This fart joke will brighten your day     1\n",
       "6651  Arthritis pain Relieve symptoms of condition w...     0\n",
       "921   Clear the Shelters day was a success here in T...     1\n",
       "2235             The Shocking Day My Husband Intervened     1\n",
       "3915                              Prime Day is tomorrow     1\n",
       "7970  Severe storms in Midwest as most of eastern US...     0\n",
       "6311  6 cars and 6 unexpected Labor Day weekend geta...     0\n",
       "7466  Americans Are Grilling More Steaks for Labor D...     0"
      ]
     },
     "execution_count": 36,
     "metadata": {},
     "output_type": "execute_result"
    }
   ],
   "source": [
    "df.loc[np.argsort(cos_sim_mat[50])[:-11:-1], :]"
   ]
  },
  {
   "cell_type": "markdown",
   "metadata": {},
   "source": [
    "# Train Test Splitting"
   ]
  },
  {
   "cell_type": "code",
   "execution_count": 37,
   "metadata": {},
   "outputs": [],
   "source": [
    "X_train, X_test, y_train, y_test = train_test_split(svd_df, target, stratify=target)"
   ]
  },
  {
   "cell_type": "code",
   "execution_count": 38,
   "metadata": {},
   "outputs": [],
   "source": [
    "knn = KNeighborsClassifier(n_neighbors=15)"
   ]
  },
  {
   "cell_type": "code",
   "execution_count": 39,
   "metadata": {},
   "outputs": [
    {
     "data": {
      "text/plain": [
       "KNeighborsClassifier(algorithm='auto', leaf_size=30, metric='minkowski',\n",
       "           metric_params=None, n_jobs=1, n_neighbors=15, p=2,\n",
       "           weights='uniform')"
      ]
     },
     "execution_count": 39,
     "metadata": {},
     "output_type": "execute_result"
    }
   ],
   "source": [
    "knn.fit(X_train, y_train)"
   ]
  },
  {
   "cell_type": "code",
   "execution_count": 40,
   "metadata": {},
   "outputs": [
    {
     "data": {
      "text/plain": [
       "0.7413954734163654"
      ]
     },
     "execution_count": 40,
     "metadata": {},
     "output_type": "execute_result"
    }
   ],
   "source": [
    "knn.score(X_train, y_train)"
   ]
  },
  {
   "cell_type": "code",
   "execution_count": 41,
   "metadata": {},
   "outputs": [
    {
     "data": {
      "text/plain": [
       "0.7095218963439133"
      ]
     },
     "execution_count": 41,
     "metadata": {},
     "output_type": "execute_result"
    }
   ],
   "source": [
    "knn.score(X_test, y_test)"
   ]
  },
  {
   "cell_type": "markdown",
   "metadata": {},
   "source": [
    "# Grid Search"
   ]
  },
  {
   "cell_type": "code",
   "execution_count": 42,
   "metadata": {},
   "outputs": [],
   "source": [
    "gs = GridSearchCV(KNeighborsClassifier(), {'n_neighbors': np.arange(3,10,5)}, cv=5)"
   ]
  },
  {
   "cell_type": "code",
   "execution_count": 43,
   "metadata": {},
   "outputs": [
    {
     "data": {
      "text/plain": [
       "GridSearchCV(cv=5, error_score='raise',\n",
       "       estimator=KNeighborsClassifier(algorithm='auto', leaf_size=30, metric='minkowski',\n",
       "           metric_params=None, n_jobs=1, n_neighbors=5, p=2,\n",
       "           weights='uniform'),\n",
       "       fit_params={}, iid=True, n_jobs=1,\n",
       "       param_grid={'n_neighbors': array([3, 8])}, pre_dispatch='2*n_jobs',\n",
       "       refit=True, scoring=None, verbose=0)"
      ]
     },
     "execution_count": 43,
     "metadata": {},
     "output_type": "execute_result"
    }
   ],
   "source": [
    "gs.fit(X_train, y_train)"
   ]
  },
  {
   "cell_type": "code",
   "execution_count": 44,
   "metadata": {},
   "outputs": [
    {
     "data": {
      "text/plain": [
       "{'n_neighbors': 8}"
      ]
     },
     "execution_count": 44,
     "metadata": {},
     "output_type": "execute_result"
    }
   ],
   "source": [
    "gs.best_params_"
   ]
  },
  {
   "cell_type": "code",
   "execution_count": 45,
   "metadata": {},
   "outputs": [
    {
     "data": {
      "text/plain": [
       "0.7551895004687291"
      ]
     },
     "execution_count": 45,
     "metadata": {},
     "output_type": "execute_result"
    }
   ],
   "source": [
    "gs.score(X_train, y_train)"
   ]
  },
  {
   "cell_type": "code",
   "execution_count": 46,
   "metadata": {},
   "outputs": [
    {
     "data": {
      "text/plain": [
       "0.6922458818802733"
      ]
     },
     "execution_count": 46,
     "metadata": {},
     "output_type": "execute_result"
    }
   ],
   "source": [
    "gs.score(X_test, y_test)"
   ]
  }
 ],
 "metadata": {
  "kernelspec": {
   "display_name": "Python 3",
   "language": "python",
   "name": "python3"
  },
  "language_info": {
   "codemirror_mode": {
    "name": "ipython",
    "version": 3
   },
   "file_extension": ".py",
   "mimetype": "text/x-python",
   "name": "python",
   "nbconvert_exporter": "python",
   "pygments_lexer": "ipython3",
   "version": "3.6.5"
  }
 },
 "nbformat": 4,
 "nbformat_minor": 2
}
