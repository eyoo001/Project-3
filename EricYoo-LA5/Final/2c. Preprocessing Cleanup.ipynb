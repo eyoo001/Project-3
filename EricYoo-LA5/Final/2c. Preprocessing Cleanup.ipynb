{
 "cells": [
  {
   "cell_type": "markdown",
   "metadata": {},
   "source": [
    "# Preprocessing Cleanup"
   ]
  },
  {
   "cell_type": "code",
   "execution_count": 42,
   "metadata": {},
   "outputs": [],
   "source": [
    "import pandas as pd\n",
    "import nltk\n",
    "import numpy as np\n",
    "import pickle\n",
    "import json\n",
    "import re\n",
    "import matplotlib.pyplot as plt\n",
    "import seaborn as sns\n",
    "from nltk.corpus import stopwords\n",
    "from nltk.sentiment.vader import SentimentIntensityAnalyzer as SIA\n",
    "from pprint import pprint\n",
    "from sklearn.feature_extraction.text import TfidfVectorizer, CountVectorizer\n",
    "from sklearn.decomposition import TruncatedSVD\n",
    "from sklearn.metrics.pairwise import cosine_similarity\n",
    "from sklearn.feature_extraction import stop_words\n",
    "from nltk.tokenize import RegexpTokenizer\n",
    "\n",
    "%matplotlib inline"
   ]
  },
  {
   "cell_type": "markdown",
   "metadata": {},
   "source": [
    "## Import Datasets\n",
    "\n",
    "First things first - I will need to read in the datasets for the news and uplifting news post headlines, then combine them into one dataframe. "
   ]
  },
  {
   "cell_type": "code",
   "execution_count": 2,
   "metadata": {},
   "outputs": [
    {
     "data": {
      "text/html": [
       "<div>\n",
       "<style scoped>\n",
       "    .dataframe tbody tr th:only-of-type {\n",
       "        vertical-align: middle;\n",
       "    }\n",
       "\n",
       "    .dataframe tbody tr th {\n",
       "        vertical-align: top;\n",
       "    }\n",
       "\n",
       "    .dataframe thead th {\n",
       "        text-align: right;\n",
       "    }\n",
       "</style>\n",
       "<table border=\"1\" class=\"dataframe\">\n",
       "  <thead>\n",
       "    <tr style=\"text-align: right;\">\n",
       "      <th></th>\n",
       "      <th>Unnamed: 0</th>\n",
       "      <th>compound</th>\n",
       "      <th>headline</th>\n",
       "      <th>neg</th>\n",
       "      <th>neu</th>\n",
       "      <th>pos</th>\n",
       "      <th>news</th>\n",
       "      <th>label</th>\n",
       "    </tr>\n",
       "  </thead>\n",
       "  <tbody>\n",
       "    <tr>\n",
       "      <th>0</th>\n",
       "      <td>0</td>\n",
       "      <td>0.4939</td>\n",
       "      <td>Steve Bannon disinvited from New Yorker festiv...</td>\n",
       "      <td>0.000</td>\n",
       "      <td>0.802</td>\n",
       "      <td>0.198</td>\n",
       "      <td>0</td>\n",
       "      <td>1</td>\n",
       "    </tr>\n",
       "    <tr>\n",
       "      <th>1</th>\n",
       "      <td>1</td>\n",
       "      <td>-0.3400</td>\n",
       "      <td>Brazils National Museum Fire What It Means for...</td>\n",
       "      <td>0.231</td>\n",
       "      <td>0.769</td>\n",
       "      <td>0.000</td>\n",
       "      <td>0</td>\n",
       "      <td>-1</td>\n",
       "    </tr>\n",
       "    <tr>\n",
       "      <th>2</th>\n",
       "      <td>4</td>\n",
       "      <td>0.4019</td>\n",
       "      <td>Seahawks Owner Gives 100k To Help Republicans ...</td>\n",
       "      <td>0.000</td>\n",
       "      <td>0.816</td>\n",
       "      <td>0.184</td>\n",
       "      <td>0</td>\n",
       "      <td>1</td>\n",
       "    </tr>\n",
       "    <tr>\n",
       "      <th>3</th>\n",
       "      <td>7</td>\n",
       "      <td>-0.6486</td>\n",
       "      <td>A 20yearold Instagram star is dead after being...</td>\n",
       "      <td>0.264</td>\n",
       "      <td>0.736</td>\n",
       "      <td>0.000</td>\n",
       "      <td>0</td>\n",
       "      <td>-1</td>\n",
       "    </tr>\n",
       "    <tr>\n",
       "      <th>4</th>\n",
       "      <td>8</td>\n",
       "      <td>-0.6124</td>\n",
       "      <td>Dozens Arrested in Marriott Worker Protests in...</td>\n",
       "      <td>0.417</td>\n",
       "      <td>0.583</td>\n",
       "      <td>0.000</td>\n",
       "      <td>0</td>\n",
       "      <td>-1</td>\n",
       "    </tr>\n",
       "  </tbody>\n",
       "</table>\n",
       "</div>"
      ],
      "text/plain": [
       "   Unnamed: 0  compound                                           headline  \\\n",
       "0           0    0.4939  Steve Bannon disinvited from New Yorker festiv...   \n",
       "1           1   -0.3400  Brazils National Museum Fire What It Means for...   \n",
       "2           4    0.4019  Seahawks Owner Gives 100k To Help Republicans ...   \n",
       "3           7   -0.6486  A 20yearold Instagram star is dead after being...   \n",
       "4           8   -0.6124  Dozens Arrested in Marriott Worker Protests in...   \n",
       "\n",
       "     neg    neu    pos  news  label  \n",
       "0  0.000  0.802  0.198     0      1  \n",
       "1  0.231  0.769  0.000     0     -1  \n",
       "2  0.000  0.816  0.184     0      1  \n",
       "3  0.264  0.736  0.000     0     -1  \n",
       "4  0.417  0.583  0.000     0     -1  "
      ]
     },
     "execution_count": 2,
     "metadata": {},
     "output_type": "execute_result"
    }
   ],
   "source": [
    "df1 = pd.read_csv('../API-data/news_posts_SA')\n",
    "df1 = df1[:3500]\n",
    "df1.head()"
   ]
  },
  {
   "cell_type": "code",
   "execution_count": 3,
   "metadata": {},
   "outputs": [
    {
     "data": {
      "text/html": [
       "<div>\n",
       "<style scoped>\n",
       "    .dataframe tbody tr th:only-of-type {\n",
       "        vertical-align: middle;\n",
       "    }\n",
       "\n",
       "    .dataframe tbody tr th {\n",
       "        vertical-align: top;\n",
       "    }\n",
       "\n",
       "    .dataframe thead th {\n",
       "        text-align: right;\n",
       "    }\n",
       "</style>\n",
       "<table border=\"1\" class=\"dataframe\">\n",
       "  <thead>\n",
       "    <tr style=\"text-align: right;\">\n",
       "      <th></th>\n",
       "      <th>Unnamed: 0</th>\n",
       "      <th>compound</th>\n",
       "      <th>headline</th>\n",
       "      <th>neg</th>\n",
       "      <th>neu</th>\n",
       "      <th>pos</th>\n",
       "      <th>news</th>\n",
       "      <th>label</th>\n",
       "    </tr>\n",
       "  </thead>\n",
       "  <tbody>\n",
       "    <tr>\n",
       "      <th>0</th>\n",
       "      <td>0</td>\n",
       "      <td>-0.5267</td>\n",
       "      <td>10 Nigerian Celebrities Who Have Been Sentence...</td>\n",
       "      <td>0.386</td>\n",
       "      <td>0.614</td>\n",
       "      <td>0.000</td>\n",
       "      <td>1</td>\n",
       "      <td>-1</td>\n",
       "    </tr>\n",
       "    <tr>\n",
       "      <th>1</th>\n",
       "      <td>1</td>\n",
       "      <td>0.7003</td>\n",
       "      <td>Philadelphias Homeless Are Finding New Hope Th...</td>\n",
       "      <td>0.000</td>\n",
       "      <td>0.580</td>\n",
       "      <td>0.420</td>\n",
       "      <td>1</td>\n",
       "      <td>1</td>\n",
       "    </tr>\n",
       "    <tr>\n",
       "      <th>2</th>\n",
       "      <td>2</td>\n",
       "      <td>0.4588</td>\n",
       "      <td>Kindness can change a life</td>\n",
       "      <td>0.000</td>\n",
       "      <td>0.500</td>\n",
       "      <td>0.500</td>\n",
       "      <td>1</td>\n",
       "      <td>1</td>\n",
       "    </tr>\n",
       "    <tr>\n",
       "      <th>3</th>\n",
       "      <td>6</td>\n",
       "      <td>0.2003</td>\n",
       "      <td>Shows Up Culinary Therapy  A Different Kind o...</td>\n",
       "      <td>0.057</td>\n",
       "      <td>0.867</td>\n",
       "      <td>0.077</td>\n",
       "      <td>1</td>\n",
       "      <td>1</td>\n",
       "    </tr>\n",
       "    <tr>\n",
       "      <th>4</th>\n",
       "      <td>7</td>\n",
       "      <td>0.2382</td>\n",
       "      <td>Up to 50 of the worlds coral has died but scie...</td>\n",
       "      <td>0.083</td>\n",
       "      <td>0.799</td>\n",
       "      <td>0.118</td>\n",
       "      <td>1</td>\n",
       "      <td>1</td>\n",
       "    </tr>\n",
       "  </tbody>\n",
       "</table>\n",
       "</div>"
      ],
      "text/plain": [
       "   Unnamed: 0  compound                                           headline  \\\n",
       "0           0   -0.5267  10 Nigerian Celebrities Who Have Been Sentence...   \n",
       "1           1    0.7003  Philadelphias Homeless Are Finding New Hope Th...   \n",
       "2           2    0.4588                         Kindness can change a life   \n",
       "3           6    0.2003   Shows Up Culinary Therapy  A Different Kind o...   \n",
       "4           7    0.2382  Up to 50 of the worlds coral has died but scie...   \n",
       "\n",
       "     neg    neu    pos  news  label  \n",
       "0  0.386  0.614  0.000     1     -1  \n",
       "1  0.000  0.580  0.420     1      1  \n",
       "2  0.000  0.500  0.500     1      1  \n",
       "3  0.057  0.867  0.077     1      1  \n",
       "4  0.083  0.799  0.118     1      1  "
      ]
     },
     "execution_count": 3,
     "metadata": {},
     "output_type": "execute_result"
    }
   ],
   "source": [
    "df2 = pd.read_csv('../API-data/upnews_posts_SA')\n",
    "df2.head()"
   ]
  },
  {
   "cell_type": "code",
   "execution_count": 4,
   "metadata": {},
   "outputs": [],
   "source": [
    "df = pd.concat((df1, df2), axis=0, ignore_index=True)"
   ]
  },
  {
   "cell_type": "code",
   "execution_count": 5,
   "metadata": {},
   "outputs": [],
   "source": [
    "df.drop('Unnamed: 0', axis=1, inplace=True)"
   ]
  },
  {
   "cell_type": "code",
   "execution_count": 6,
   "metadata": {},
   "outputs": [
    {
     "data": {
      "text/plain": [
       " 1    3556\n",
       "-1    2888\n",
       "Name: label, dtype: int64"
      ]
     },
     "execution_count": 6,
     "metadata": {},
     "output_type": "execute_result"
    }
   ],
   "source": [
    "df = df[df.label != 0]\n",
    "df.label.value_counts()"
   ]
  },
  {
   "cell_type": "markdown",
   "metadata": {},
   "source": [
    "### Tokenize\n",
    "\n",
    "Next, I would like to tokenize the headlines to see how large the dataset will be, as well as determine counts."
   ]
  },
  {
   "cell_type": "code",
   "execution_count": 25,
   "metadata": {},
   "outputs": [],
   "source": [
    "tokenizer = RegexpTokenizer(r'\\w+')\n",
    "headline_words = [tokenizer.tokenize(title.lower()) for title in titles]\n",
    "df['tokens'] = headline_words"
   ]
  },
  {
   "cell_type": "code",
   "execution_count": 26,
   "metadata": {},
   "outputs": [],
   "source": [
    "words = []\n",
    "\n",
    "for title in headline_words:\n",
    "    for t in title:\n",
    "        words.append(t)"
   ]
  },
  {
   "cell_type": "code",
   "execution_count": 27,
   "metadata": {},
   "outputs": [],
   "source": [
    "unique_words = set(words)"
   ]
  },
  {
   "cell_type": "code",
   "execution_count": 10,
   "metadata": {},
   "outputs": [],
   "source": [
    "df['length'] = [len(title) for title in df['headline'].values.astype('str')]"
   ]
  },
  {
   "cell_type": "code",
   "execution_count": 28,
   "metadata": {},
   "outputs": [
    {
     "data": {
      "text/plain": [
       "(80379, 13803)"
      ]
     },
     "execution_count": 28,
     "metadata": {},
     "output_type": "execute_result"
    }
   ],
   "source": [
    "len(words), len(unique_words)"
   ]
  },
  {
   "cell_type": "markdown",
   "metadata": {},
   "source": [
    "There are 80,379 individual words in the headlines, and 13,803 of the words are unique. "
   ]
  },
  {
   "cell_type": "markdown",
   "metadata": {},
   "source": [
    "## Count Vectorizer\n",
    "\n",
    "I will count vectorize the data to explore their frequencies/counts."
   ]
  },
  {
   "cell_type": "code",
   "execution_count": 31,
   "metadata": {},
   "outputs": [],
   "source": [
    "cv = CountVectorizer()\n",
    "cv.fit(words)\n",
    "word_cv = cv.transform(words)"
   ]
  },
  {
   "cell_type": "code",
   "execution_count": 32,
   "metadata": {},
   "outputs": [],
   "source": [
    "word_df = pd.DataFrame(word_cv.toarray(), columns=cv.get_feature_names())\n",
    "word_total = word_df.sum(axis=0)"
   ]
  },
  {
   "cell_type": "code",
   "execution_count": 33,
   "metadata": {
    "scrolled": false
   },
   "outputs": [
    {
     "data": {
      "text/plain": [
       "to       2146\n",
       "the      1814\n",
       "in       1731\n",
       "of       1403\n",
       "and      1122\n",
       "for      1110\n",
       "is        622\n",
       "on        610\n",
       "with      532\n",
       "after     451\n",
       "from      434\n",
       "by        394\n",
       "at        369\n",
       "his       281\n",
       "new       265\n",
       "trump     262\n",
       "this      258\n",
       "us        257\n",
       "man       255\n",
       "as        254\n",
       "dtype: int64"
      ]
     },
     "execution_count": 33,
     "metadata": {},
     "output_type": "execute_result"
    }
   ],
   "source": [
    "word_total.sort_values(ascending=False).head(20)"
   ]
  },
  {
   "cell_type": "markdown",
   "metadata": {},
   "source": [
    "Unsurprisingly, the most frequently used words are conjunctions and other stop words. This does not tell us much about the data.\n",
    "\n",
    "I will want to remove stop words from this list, which I can do by re-insantiating Count Vectorizer."
   ]
  },
  {
   "cell_type": "code",
   "execution_count": 35,
   "metadata": {},
   "outputs": [],
   "source": [
    "cv_stop = CountVectorizer(stop_words='english')\n",
    "\n",
    "word_vect_stop = cv_stop.fit_transform(words)\n",
    "\n",
    "word_df_s = pd.DataFrame(word_vect_stop.toarray(), columns=cv_stop.get_feature_names())\n",
    "word_total_stop = word_df_s.sum(axis=0)"
   ]
  },
  {
   "cell_type": "code",
   "execution_count": 36,
   "metadata": {},
   "outputs": [
    {
     "data": {
      "text/plain": [
       "new          265\n",
       "trump        262\n",
       "man          255\n",
       "best         243\n",
       "free         186\n",
       "news         176\n",
       "help         163\n",
       "years        161\n",
       "worth        157\n",
       "police       154\n",
       "people       152\n",
       "net          148\n",
       "just         138\n",
       "biography    124\n",
       "woman        122\n",
       "says         116\n",
       "world        107\n",
       "online       105\n",
       "rescue       100\n",
       "home          97\n",
       "dtype: int64"
      ]
     },
     "execution_count": 36,
     "metadata": {},
     "output_type": "execute_result"
    }
   ],
   "source": [
    "word_stop_total = word_total_stop.sort_values(ascending=False).head(20)\n",
    "word_stop_total"
   ]
  },
  {
   "cell_type": "markdown",
   "metadata": {},
   "source": [
    "This list of words is much more in-line with what I expected - words like \"trump\", \"police\", \"new\" and \"man\".\n",
    "\n",
    "Plotting the word frequencies below, we can see the curve at which the words drop off."
   ]
  },
  {
   "cell_type": "code",
   "execution_count": 54,
   "metadata": {},
   "outputs": [
    {
     "data": {
      "text/plain": [
       "<BarContainer object of 20 artists>"
      ]
     },
     "execution_count": 54,
     "metadata": {},
     "output_type": "execute_result"
    },
    {
     "data": {
      "image/png": "[encoded data removed]",
      "text/plain": [
       "<Figure size 1440x720 with 1 Axes>"
      ]
     },
     "metadata": {},
     "output_type": "display_data"
    }
   ],
   "source": [
    "plt.figure(figsize=(20,10))\n",
    "plt.bar(x = word_stop_total[0:20].index, height = word_stop_total[0:20])"
   ]
  },
  {
   "cell_type": "markdown",
   "metadata": {},
   "source": [
    "## TF-IDF\n",
    "\n",
    "I will need to TF-IDF the words in order to prepare them for modeling in the next step. I will likely need to come back to revisit the tf-idf parameters (min_df and max_df) if the model performs badly, as well as consider a higher n-gram."
   ]
  },
  {
   "cell_type": "code",
   "execution_count": 14,
   "metadata": {},
   "outputs": [],
   "source": [
    "tfidf = TfidfVectorizer(stop_words='english', min_df=5, max_df=1.0)\n",
    "term_mat = tfidf.fit_transform(df['headline'].values.astype('str'))"
   ]
  },
  {
   "cell_type": "code",
   "execution_count": 15,
   "metadata": {},
   "outputs": [],
   "source": [
    "term_df = pd.SparseDataFrame(term_mat, columns=tfidf.get_feature_names())\n",
    "term_df.fillna(0, inplace=True)"
   ]
  },
  {
   "cell_type": "markdown",
   "metadata": {},
   "source": [
    "## SVD\n",
    "\n",
    "In addition, I will have the TF-IDFed terms run through SVD for dimension reduction in order to find the most important features."
   ]
  },
  {
   "cell_type": "code",
   "execution_count": 16,
   "metadata": {},
   "outputs": [
    {
     "data": {
      "text/plain": [
       "(6444, 1000)"
      ]
     },
     "execution_count": 16,
     "metadata": {},
     "output_type": "execute_result"
    }
   ],
   "source": [
    "SVD = TruncatedSVD(n_components=1000)\n",
    "svd_matrix = SVD.fit_transform(term_df)\n",
    "svd_matrix.shape"
   ]
  },
  {
   "cell_type": "code",
   "execution_count": 17,
   "metadata": {},
   "outputs": [
    {
     "data": {
      "text/html": [
       "<div>\n",
       "<style scoped>\n",
       "    .dataframe tbody tr th:only-of-type {\n",
       "        vertical-align: middle;\n",
       "    }\n",
       "\n",
       "    .dataframe tbody tr th {\n",
       "        vertical-align: top;\n",
       "    }\n",
       "\n",
       "    .dataframe thead th {\n",
       "        text-align: right;\n",
       "    }\n",
       "</style>\n",
       "<table border=\"1\" class=\"dataframe\">\n",
       "  <thead>\n",
       "    <tr style=\"text-align: right;\">\n",
       "      <th></th>\n",
       "      <th>component_1</th>\n",
       "      <th>component_2</th>\n",
       "      <th>component_3</th>\n",
       "      <th>component_4</th>\n",
       "      <th>component_5</th>\n",
       "      <th>component_6</th>\n",
       "      <th>component_7</th>\n",
       "      <th>component_8</th>\n",
       "      <th>component_9</th>\n",
       "      <th>component_10</th>\n",
       "      <th>...</th>\n",
       "      <th>component_991</th>\n",
       "      <th>component_992</th>\n",
       "      <th>component_993</th>\n",
       "      <th>component_994</th>\n",
       "      <th>component_995</th>\n",
       "      <th>component_996</th>\n",
       "      <th>component_997</th>\n",
       "      <th>component_998</th>\n",
       "      <th>component_999</th>\n",
       "      <th>component_1000</th>\n",
       "    </tr>\n",
       "  </thead>\n",
       "  <tbody>\n",
       "    <tr>\n",
       "      <th>0</th>\n",
       "      <td>0.002344</td>\n",
       "      <td>0.041864</td>\n",
       "      <td>-0.070390</td>\n",
       "      <td>-0.024596</td>\n",
       "      <td>-0.056471</td>\n",
       "      <td>0.126529</td>\n",
       "      <td>-0.118925</td>\n",
       "      <td>-0.007607</td>\n",
       "      <td>-0.011649</td>\n",
       "      <td>-0.024117</td>\n",
       "      <td>...</td>\n",
       "      <td>-0.015365</td>\n",
       "      <td>0.010767</td>\n",
       "      <td>-0.005259</td>\n",
       "      <td>0.016046</td>\n",
       "      <td>-0.002764</td>\n",
       "      <td>-0.003597</td>\n",
       "      <td>0.031479</td>\n",
       "      <td>0.006400</td>\n",
       "      <td>-0.006872</td>\n",
       "      <td>-0.017829</td>\n",
       "    </tr>\n",
       "    <tr>\n",
       "      <th>1</th>\n",
       "      <td>0.000149</td>\n",
       "      <td>0.021723</td>\n",
       "      <td>-0.024050</td>\n",
       "      <td>-0.008779</td>\n",
       "      <td>-0.000303</td>\n",
       "      <td>-0.009353</td>\n",
       "      <td>0.009455</td>\n",
       "      <td>0.041358</td>\n",
       "      <td>-0.007122</td>\n",
       "      <td>-0.008816</td>\n",
       "      <td>...</td>\n",
       "      <td>-0.000492</td>\n",
       "      <td>-0.020017</td>\n",
       "      <td>-0.034656</td>\n",
       "      <td>-0.020893</td>\n",
       "      <td>0.020831</td>\n",
       "      <td>-0.022540</td>\n",
       "      <td>-0.028302</td>\n",
       "      <td>0.011068</td>\n",
       "      <td>-0.011464</td>\n",
       "      <td>-0.005344</td>\n",
       "    </tr>\n",
       "    <tr>\n",
       "      <th>2</th>\n",
       "      <td>0.001257</td>\n",
       "      <td>0.046476</td>\n",
       "      <td>-0.066259</td>\n",
       "      <td>0.010125</td>\n",
       "      <td>-0.037782</td>\n",
       "      <td>-0.015076</td>\n",
       "      <td>0.013981</td>\n",
       "      <td>0.073273</td>\n",
       "      <td>0.015442</td>\n",
       "      <td>0.225154</td>\n",
       "      <td>...</td>\n",
       "      <td>0.007532</td>\n",
       "      <td>0.030616</td>\n",
       "      <td>0.029705</td>\n",
       "      <td>0.026572</td>\n",
       "      <td>0.042423</td>\n",
       "      <td>-0.014025</td>\n",
       "      <td>-0.027372</td>\n",
       "      <td>-0.004524</td>\n",
       "      <td>0.009520</td>\n",
       "      <td>0.001660</td>\n",
       "    </tr>\n",
       "    <tr>\n",
       "      <th>3</th>\n",
       "      <td>0.000335</td>\n",
       "      <td>0.019589</td>\n",
       "      <td>-0.034964</td>\n",
       "      <td>-0.000354</td>\n",
       "      <td>-0.012656</td>\n",
       "      <td>0.013378</td>\n",
       "      <td>0.002825</td>\n",
       "      <td>0.008258</td>\n",
       "      <td>-0.004292</td>\n",
       "      <td>-0.023757</td>\n",
       "      <td>...</td>\n",
       "      <td>0.003082</td>\n",
       "      <td>-0.018339</td>\n",
       "      <td>-0.019945</td>\n",
       "      <td>0.018028</td>\n",
       "      <td>0.041144</td>\n",
       "      <td>0.007007</td>\n",
       "      <td>0.027088</td>\n",
       "      <td>-0.007302</td>\n",
       "      <td>-0.008641</td>\n",
       "      <td>0.031904</td>\n",
       "    </tr>\n",
       "    <tr>\n",
       "      <th>4</th>\n",
       "      <td>0.000636</td>\n",
       "      <td>0.021404</td>\n",
       "      <td>-0.036641</td>\n",
       "      <td>0.000196</td>\n",
       "      <td>-0.017781</td>\n",
       "      <td>-0.031659</td>\n",
       "      <td>-0.013466</td>\n",
       "      <td>-0.011424</td>\n",
       "      <td>0.002613</td>\n",
       "      <td>-0.022702</td>\n",
       "      <td>...</td>\n",
       "      <td>-0.002829</td>\n",
       "      <td>0.030377</td>\n",
       "      <td>-0.010239</td>\n",
       "      <td>-0.016661</td>\n",
       "      <td>0.023431</td>\n",
       "      <td>0.016875</td>\n",
       "      <td>-0.014970</td>\n",
       "      <td>0.023899</td>\n",
       "      <td>0.008727</td>\n",
       "      <td>-0.000973</td>\n",
       "    </tr>\n",
       "  </tbody>\n",
       "</table>\n",
       "<p>5 rows × 1000 columns</p>\n",
       "</div>"
      ],
      "text/plain": [
       "   component_1  component_2  component_3  component_4  component_5  \\\n",
       "0     0.002344     0.041864    -0.070390    -0.024596    -0.056471   \n",
       "1     0.000149     0.021723    -0.024050    -0.008779    -0.000303   \n",
       "2     0.001257     0.046476    -0.066259     0.010125    -0.037782   \n",
       "3     0.000335     0.019589    -0.034964    -0.000354    -0.012656   \n",
       "4     0.000636     0.021404    -0.036641     0.000196    -0.017781   \n",
       "\n",
       "   component_6  component_7  component_8  component_9  component_10  \\\n",
       "0     0.126529    -0.118925    -0.007607    -0.011649     -0.024117   \n",
       "1    -0.009353     0.009455     0.041358    -0.007122     -0.008816   \n",
       "2    -0.015076     0.013981     0.073273     0.015442      0.225154   \n",
       "3     0.013378     0.002825     0.008258    -0.004292     -0.023757   \n",
       "4    -0.031659    -0.013466    -0.011424     0.002613     -0.022702   \n",
       "\n",
       "        ...        component_991  component_992  component_993  component_994  \\\n",
       "0       ...            -0.015365       0.010767      -0.005259       0.016046   \n",
       "1       ...            -0.000492      -0.020017      -0.034656      -0.020893   \n",
       "2       ...             0.007532       0.030616       0.029705       0.026572   \n",
       "3       ...             0.003082      -0.018339      -0.019945       0.018028   \n",
       "4       ...            -0.002829       0.030377      -0.010239      -0.016661   \n",
       "\n",
       "   component_995  component_996  component_997  component_998  component_999  \\\n",
       "0      -0.002764      -0.003597       0.031479       0.006400      -0.006872   \n",
       "1       0.020831      -0.022540      -0.028302       0.011068      -0.011464   \n",
       "2       0.042423      -0.014025      -0.027372      -0.004524       0.009520   \n",
       "3       0.041144       0.007007       0.027088      -0.007302      -0.008641   \n",
       "4       0.023431       0.016875      -0.014970       0.023899       0.008727   \n",
       "\n",
       "   component_1000  \n",
       "0       -0.017829  \n",
       "1       -0.005344  \n",
       "2        0.001660  \n",
       "3        0.031904  \n",
       "4       -0.000973  \n",
       "\n",
       "[5 rows x 1000 columns]"
      ]
     },
     "execution_count": 17,
     "metadata": {},
     "output_type": "execute_result"
    }
   ],
   "source": [
    "component_names = [\"component_\"+str(i+1) for i in range(1000)]\n",
    "svd_df = pd.DataFrame(svd_matrix, columns=component_names)\n",
    "\n",
    "svd_df.head()"
   ]
  },
  {
   "cell_type": "code",
   "execution_count": 18,
   "metadata": {},
   "outputs": [],
   "source": [
    "loadings = pd.DataFrame(SVD.components_,\n",
    "                        index=component_names,\n",
    "                        columns=term_df.columns).T"
   ]
  },
  {
   "cell_type": "code",
   "execution_count": 19,
   "metadata": {},
   "outputs": [
    {
     "data": {
      "text/html": [
       "<div>\n",
       "<style scoped>\n",
       "    .dataframe tbody tr th:only-of-type {\n",
       "        vertical-align: middle;\n",
       "    }\n",
       "\n",
       "    .dataframe tbody tr th {\n",
       "        vertical-align: top;\n",
       "    }\n",
       "\n",
       "    .dataframe thead th {\n",
       "        text-align: right;\n",
       "    }\n",
       "</style>\n",
       "<table border=\"1\" class=\"dataframe\">\n",
       "  <thead>\n",
       "    <tr style=\"text-align: right;\">\n",
       "      <th></th>\n",
       "      <th>component_1</th>\n",
       "      <th>component_2</th>\n",
       "      <th>component_3</th>\n",
       "      <th>component_4</th>\n",
       "      <th>component_5</th>\n",
       "      <th>component_6</th>\n",
       "      <th>component_7</th>\n",
       "      <th>component_8</th>\n",
       "      <th>component_9</th>\n",
       "      <th>component_10</th>\n",
       "      <th>...</th>\n",
       "      <th>component_993</th>\n",
       "      <th>component_994</th>\n",
       "      <th>component_995</th>\n",
       "      <th>component_996</th>\n",
       "      <th>component_997</th>\n",
       "      <th>component_998</th>\n",
       "      <th>component_999</th>\n",
       "      <th>component_1000</th>\n",
       "      <th>abs_component_1</th>\n",
       "      <th>abs_component_2</th>\n",
       "    </tr>\n",
       "  </thead>\n",
       "  <tbody>\n",
       "    <tr>\n",
       "      <th>youth</th>\n",
       "      <td>0.000028</td>\n",
       "      <td>0.002982</td>\n",
       "      <td>-0.003584</td>\n",
       "      <td>-0.000567</td>\n",
       "      <td>-0.001254</td>\n",
       "      <td>0.000638</td>\n",
       "      <td>-0.000439</td>\n",
       "      <td>0.006017</td>\n",
       "      <td>-0.000753</td>\n",
       "      <td>-0.002769</td>\n",
       "      <td>...</td>\n",
       "      <td>-0.009370</td>\n",
       "      <td>-0.025803</td>\n",
       "      <td>-0.000417</td>\n",
       "      <td>0.013694</td>\n",
       "      <td>0.000138</td>\n",
       "      <td>-0.025089</td>\n",
       "      <td>-0.001146</td>\n",
       "      <td>-0.016516</td>\n",
       "      <td>0.000028</td>\n",
       "      <td>0.002982</td>\n",
       "    </tr>\n",
       "    <tr>\n",
       "      <th>youtube</th>\n",
       "      <td>0.000018</td>\n",
       "      <td>0.003028</td>\n",
       "      <td>-0.003451</td>\n",
       "      <td>-0.001007</td>\n",
       "      <td>-0.001241</td>\n",
       "      <td>0.001163</td>\n",
       "      <td>-0.001641</td>\n",
       "      <td>0.003978</td>\n",
       "      <td>-0.000713</td>\n",
       "      <td>-0.002252</td>\n",
       "      <td>...</td>\n",
       "      <td>0.008211</td>\n",
       "      <td>0.044377</td>\n",
       "      <td>0.014066</td>\n",
       "      <td>-0.000721</td>\n",
       "      <td>0.003330</td>\n",
       "      <td>-0.008613</td>\n",
       "      <td>-0.013463</td>\n",
       "      <td>-0.002459</td>\n",
       "      <td>0.000018</td>\n",
       "      <td>0.003028</td>\n",
       "    </tr>\n",
       "    <tr>\n",
       "      <th>zealand</th>\n",
       "      <td>0.000036</td>\n",
       "      <td>0.005342</td>\n",
       "      <td>-0.010574</td>\n",
       "      <td>-0.000278</td>\n",
       "      <td>-0.009027</td>\n",
       "      <td>0.022177</td>\n",
       "      <td>-0.020963</td>\n",
       "      <td>0.001882</td>\n",
       "      <td>-0.002390</td>\n",
       "      <td>-0.005251</td>\n",
       "      <td>...</td>\n",
       "      <td>0.005247</td>\n",
       "      <td>-0.019447</td>\n",
       "      <td>0.028001</td>\n",
       "      <td>0.025001</td>\n",
       "      <td>-0.018343</td>\n",
       "      <td>0.001927</td>\n",
       "      <td>-0.016210</td>\n",
       "      <td>0.007913</td>\n",
       "      <td>0.000036</td>\n",
       "      <td>0.005342</td>\n",
       "    </tr>\n",
       "    <tr>\n",
       "      <th>zero</th>\n",
       "      <td>0.000018</td>\n",
       "      <td>0.003051</td>\n",
       "      <td>-0.006030</td>\n",
       "      <td>0.000829</td>\n",
       "      <td>-0.004901</td>\n",
       "      <td>0.000347</td>\n",
       "      <td>0.000542</td>\n",
       "      <td>-0.001457</td>\n",
       "      <td>-0.000601</td>\n",
       "      <td>-0.002008</td>\n",
       "      <td>...</td>\n",
       "      <td>0.001824</td>\n",
       "      <td>-0.015176</td>\n",
       "      <td>0.004380</td>\n",
       "      <td>-0.001260</td>\n",
       "      <td>0.025572</td>\n",
       "      <td>0.077811</td>\n",
       "      <td>0.078961</td>\n",
       "      <td>0.065436</td>\n",
       "      <td>0.000018</td>\n",
       "      <td>0.003051</td>\n",
       "    </tr>\n",
       "    <tr>\n",
       "      <th>zoo</th>\n",
       "      <td>0.000013</td>\n",
       "      <td>0.001556</td>\n",
       "      <td>-0.002283</td>\n",
       "      <td>0.000922</td>\n",
       "      <td>-0.001397</td>\n",
       "      <td>-0.002113</td>\n",
       "      <td>0.001286</td>\n",
       "      <td>0.001189</td>\n",
       "      <td>0.000098</td>\n",
       "      <td>-0.000698</td>\n",
       "      <td>...</td>\n",
       "      <td>0.019807</td>\n",
       "      <td>0.003850</td>\n",
       "      <td>-0.007276</td>\n",
       "      <td>0.025102</td>\n",
       "      <td>0.033317</td>\n",
       "      <td>0.021503</td>\n",
       "      <td>0.008202</td>\n",
       "      <td>-0.012123</td>\n",
       "      <td>0.000013</td>\n",
       "      <td>0.001556</td>\n",
       "    </tr>\n",
       "  </tbody>\n",
       "</table>\n",
       "<p>5 rows × 1002 columns</p>\n",
       "</div>"
      ],
      "text/plain": [
       "         component_1  component_2  component_3  component_4  component_5  \\\n",
       "youth       0.000028     0.002982    -0.003584    -0.000567    -0.001254   \n",
       "youtube     0.000018     0.003028    -0.003451    -0.001007    -0.001241   \n",
       "zealand     0.000036     0.005342    -0.010574    -0.000278    -0.009027   \n",
       "zero        0.000018     0.003051    -0.006030     0.000829    -0.004901   \n",
       "zoo         0.000013     0.001556    -0.002283     0.000922    -0.001397   \n",
       "\n",
       "         component_6  component_7  component_8  component_9  component_10  \\\n",
       "youth       0.000638    -0.000439     0.006017    -0.000753     -0.002769   \n",
       "youtube     0.001163    -0.001641     0.003978    -0.000713     -0.002252   \n",
       "zealand     0.022177    -0.020963     0.001882    -0.002390     -0.005251   \n",
       "zero        0.000347     0.000542    -0.001457    -0.000601     -0.002008   \n",
       "zoo        -0.002113     0.001286     0.001189     0.000098     -0.000698   \n",
       "\n",
       "              ...         component_993  component_994  component_995  \\\n",
       "youth         ...             -0.009370      -0.025803      -0.000417   \n",
       "youtube       ...              0.008211       0.044377       0.014066   \n",
       "zealand       ...              0.005247      -0.019447       0.028001   \n",
       "zero          ...              0.001824      -0.015176       0.004380   \n",
       "zoo           ...              0.019807       0.003850      -0.007276   \n",
       "\n",
       "         component_996  component_997  component_998  component_999  \\\n",
       "youth         0.013694       0.000138      -0.025089      -0.001146   \n",
       "youtube      -0.000721       0.003330      -0.008613      -0.013463   \n",
       "zealand       0.025001      -0.018343       0.001927      -0.016210   \n",
       "zero         -0.001260       0.025572       0.077811       0.078961   \n",
       "zoo           0.025102       0.033317       0.021503       0.008202   \n",
       "\n",
       "         component_1000  abs_component_1  abs_component_2  \n",
       "youth         -0.016516         0.000028         0.002982  \n",
       "youtube       -0.002459         0.000018         0.003028  \n",
       "zealand        0.007913         0.000036         0.005342  \n",
       "zero           0.065436         0.000018         0.003051  \n",
       "zoo           -0.012123         0.000013         0.001556  \n",
       "\n",
       "[5 rows x 1002 columns]"
      ]
     },
     "execution_count": 19,
     "metadata": {},
     "output_type": "execute_result"
    }
   ],
   "source": [
    "loadings['abs_component_1'] = np.abs(loadings.component_1)\n",
    "loadings['abs_component_2'] = np.abs(loadings.component_2)\n",
    "loadings.tail()"
   ]
  },
  {
   "cell_type": "code",
   "execution_count": 20,
   "metadata": {},
   "outputs": [
    {
     "data": {
      "text/html": [
       "<div>\n",
       "<style scoped>\n",
       "    .dataframe tbody tr th:only-of-type {\n",
       "        vertical-align: middle;\n",
       "    }\n",
       "\n",
       "    .dataframe tbody tr th {\n",
       "        vertical-align: top;\n",
       "    }\n",
       "\n",
       "    .dataframe thead th {\n",
       "        text-align: right;\n",
       "    }\n",
       "</style>\n",
       "<table border=\"1\" class=\"dataframe\">\n",
       "  <thead>\n",
       "    <tr style=\"text-align: right;\">\n",
       "      <th></th>\n",
       "      <th>component_1</th>\n",
       "    </tr>\n",
       "  </thead>\n",
       "  <tbody>\n",
       "    <tr>\n",
       "      <th>biography</th>\n",
       "      <td>0.581280</td>\n",
       "    </tr>\n",
       "    <tr>\n",
       "      <th>worth</th>\n",
       "      <td>0.576021</td>\n",
       "    </tr>\n",
       "    <tr>\n",
       "      <th>net</th>\n",
       "      <td>0.572655</td>\n",
       "    </tr>\n",
       "    <tr>\n",
       "      <th>bio</th>\n",
       "      <td>0.015002</td>\n",
       "    </tr>\n",
       "    <tr>\n",
       "      <th>age</th>\n",
       "      <td>0.012610</td>\n",
       "    </tr>\n",
       "    <tr>\n",
       "      <th>king</th>\n",
       "      <td>0.012040</td>\n",
       "    </tr>\n",
       "    <tr>\n",
       "      <th>neutrality</th>\n",
       "      <td>0.011046</td>\n",
       "    </tr>\n",
       "    <tr>\n",
       "      <th>market</th>\n",
       "      <td>0.011024</td>\n",
       "    </tr>\n",
       "    <tr>\n",
       "      <th>mercy</th>\n",
       "      <td>0.009943</td>\n",
       "    </tr>\n",
       "    <tr>\n",
       "      <th>williams</th>\n",
       "      <td>0.009928</td>\n",
       "    </tr>\n",
       "    <tr>\n",
       "      <th>johnson</th>\n",
       "      <td>0.008447</td>\n",
       "    </tr>\n",
       "    <tr>\n",
       "      <th>parents</th>\n",
       "      <td>0.007800</td>\n",
       "    </tr>\n",
       "    <tr>\n",
       "      <th>law</th>\n",
       "      <td>0.007733</td>\n",
       "    </tr>\n",
       "    <tr>\n",
       "      <th>career</th>\n",
       "      <td>0.007468</td>\n",
       "    </tr>\n",
       "    <tr>\n",
       "      <th>usd</th>\n",
       "      <td>0.007421</td>\n",
       "    </tr>\n",
       "    <tr>\n",
       "      <th>michael</th>\n",
       "      <td>0.007150</td>\n",
       "    </tr>\n",
       "    <tr>\n",
       "      <th>joe</th>\n",
       "      <td>0.007111</td>\n",
       "    </tr>\n",
       "    <tr>\n",
       "      <th>million</th>\n",
       "      <td>0.006768</td>\n",
       "    </tr>\n",
       "    <tr>\n",
       "      <th>billion</th>\n",
       "      <td>0.006518</td>\n",
       "    </tr>\n",
       "    <tr>\n",
       "      <th>sam</th>\n",
       "      <td>0.006355</td>\n",
       "    </tr>\n",
       "  </tbody>\n",
       "</table>\n",
       "</div>"
      ],
      "text/plain": [
       "            component_1\n",
       "biography      0.581280\n",
       "worth          0.576021\n",
       "net            0.572655\n",
       "bio            0.015002\n",
       "age            0.012610\n",
       "king           0.012040\n",
       "neutrality     0.011046\n",
       "market         0.011024\n",
       "mercy          0.009943\n",
       "williams       0.009928\n",
       "johnson        0.008447\n",
       "parents        0.007800\n",
       "law            0.007733\n",
       "career         0.007468\n",
       "usd            0.007421\n",
       "michael        0.007150\n",
       "joe            0.007111\n",
       "million        0.006768\n",
       "billion        0.006518\n",
       "sam            0.006355"
      ]
     },
     "execution_count": 20,
     "metadata": {},
     "output_type": "execute_result"
    }
   ],
   "source": [
    "loadings.sort_values('abs_component_1',ascending=False).head(20)[['component_1']]\n"
   ]
  },
  {
   "cell_type": "code",
   "execution_count": null,
   "metadata": {},
   "outputs": [],
   "source": []
  },
  {
   "cell_type": "markdown",
   "metadata": {},
   "source": [
    "### Target \n",
    "\n",
    "I will assign the target variable(s) now - I am making two separate targets, as I would like to test the model for sentiment identification as well as subreddit. "
   ]
  },
  {
   "cell_type": "code",
   "execution_count": 7,
   "metadata": {},
   "outputs": [],
   "source": [
    "target_sub = df['news']\n",
    "\n",
    "target_sent = df['label']\n",
    "\n",
    "titles = df.headline.values.astype('str')"
   ]
  },
  {
   "cell_type": "markdown",
   "metadata": {},
   "source": [
    "## Pickle"
   ]
  },
  {
   "cell_type": "code",
   "execution_count": 21,
   "metadata": {},
   "outputs": [],
   "source": [
    "with open('../Pickle/tfidf.pkl', 'wb') as f:\n",
    "    pickle.dump(tfidf, f)\n",
    "with open('../Pickle/term_df.pkl', 'wb') as f:\n",
    "    pickle.dump(term_df, f)\n",
    "with open('../Pickle/svd_df.pkl', 'wb') as f:\n",
    "    pickle.dump(svd_df, f)\n",
    "with open('../Pickle/target_sub.pkl', 'wb') as f:\n",
    "    pickle.dump(target_sub, f)\n",
    "with open('../Pickle/target_sent.pkl', 'wb') as f:\n",
    "    pickle.dump(target_sent, f)"
   ]
  },
  {
   "cell_type": "markdown",
   "metadata": {},
   "source": [
    "### Also save dataframe as csv as a backup"
   ]
  },
  {
   "cell_type": "code",
   "execution_count": 23,
   "metadata": {},
   "outputs": [],
   "source": [
    "df.to_csv('../API-data/headlines')"
   ]
  },
  {
   "cell_type": "code",
   "execution_count": null,
   "metadata": {},
   "outputs": [],
   "source": []
  }
 ],
 "metadata": {
  "kernelspec": {
   "display_name": "Python 3",
   "language": "python",
   "name": "python3"
  },
  "language_info": {
   "codemirror_mode": {
    "name": "ipython",
    "version": 3
   },
   "file_extension": ".py",
   "mimetype": "text/x-python",
   "name": "python",
   "nbconvert_exporter": "python",
   "pygments_lexer": "ipython3",
   "version": "3.6.5"
  }
 },
 "nbformat": 4,
 "nbformat_minor": 2
}
